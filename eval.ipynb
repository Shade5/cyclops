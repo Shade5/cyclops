{
 "cells": [
  {
   "cell_type": "code",
   "execution_count": 1,
   "metadata": {
    "collapsed": false
   },
   "outputs": [
    {
     "name": "stderr",
     "output_type": "stream",
     "text": [
      "Using TensorFlow backend.\n"
     ]
    },
    {
     "data": {
      "text/plain": [
       "\"f = h5py.File('ioncanondprime.h5', 'r+')\\ndel f['optimizer_weights']\\nf.close()\""
      ]
     },
     "execution_count": 1,
     "metadata": {},
     "output_type": "execute_result"
    }
   ],
   "source": [
    "import keras\n",
    "import numpy as np\n",
    "from matplotlib import pyplot as plt\n",
    "from sklearn.preprocessing import LabelBinarizer\n",
    "\n",
    "import h5py\n",
    "\"\"\"f = h5py.File('ioncanondprime.h5', 'r+')\n",
    "del f['optimizer_weights']\n",
    "f.close()\"\"\""
   ]
  },
  {
   "cell_type": "code",
   "execution_count": 2,
   "metadata": {
    "collapsed": false
   },
   "outputs": [],
   "source": [
    "model = keras.models.load_model(\"ioncanondprime.h5\")\n",
    "\n",
    "num_classes = 11"
   ]
  },
  {
   "cell_type": "code",
   "execution_count": 3,
   "metadata": {
    "collapsed": true
   },
   "outputs": [],
   "source": [
    "def hot(y):\n",
    "    label_binarizer = LabelBinarizer()\n",
    "    label_binarizer.fit(range(11))\n",
    "    new_y = np.zeros((y.shape[0],y.shape[1]*num_classes))\n",
    "    for i in range(len(y)):\n",
    "        new_y[i,:] = label_binarizer.transform(y[i]).flatten()\n",
    "    return new_y"
   ]
  },
  {
   "cell_type": "code",
   "execution_count": 4,
   "metadata": {
    "collapsed": false
   },
   "outputs": [],
   "source": [
    "X = np.load(\"resizecrop.npy\")[0:13000,:]\n",
    "y = np.load(\"nummertrain.npy\").astype(int)[0:13000,:]"
   ]
  },
  {
   "cell_type": "code",
   "execution_count": 5,
   "metadata": {
    "collapsed": false
   },
   "outputs": [
    {
     "data": {
      "text/plain": [
       "'num = np.random.randint(len(X))\\nA = model.predict(X[num].reshape((1,X[1].shape[0],X[1].shape[1],X[1].shape[2])))\\n\\nplt.imshow(X[num])\\nprint(np.argmax(y[num].reshape((6,11)),axis=1))\\nprint(np.argmax(np.array(A).reshape((5,11)),axis=1))\\nplt.show()'"
      ]
     },
     "execution_count": 5,
     "metadata": {},
     "output_type": "execute_result"
    }
   ],
   "source": [
    "\"\"\"num = np.random.randint(len(X))\n",
    "A = model.predict(X[num].reshape((1,X[1].shape[0],X[1].shape[1],X[1].shape[2])))\n",
    "\n",
    "plt.imshow(X[num])\n",
    "print(np.argmax(y[num].reshape((6,11)),axis=1))\n",
    "print(np.argmax(np.array(A).reshape((5,11)),axis=1))\n",
    "plt.show()\"\"\""
   ]
  },
  {
   "cell_type": "code",
   "execution_count": 6,
   "metadata": {
    "collapsed": false
   },
   "outputs": [],
   "source": [
    "c=0\n",
    "for i in range(len(X)):\n",
    "    A = model.predict(X[i].reshape((1,X[1].shape[0],X[1].shape[1],X[1].shape[2])))\n",
    "    if np.array_equal(np.argmax(y[i].reshape((6,11)),axis=1)[0:5],np.argmax(np.array(A).reshape((5,11)),axis=1)[0:5]):\n",
    "        c+=1"
   ]
  },
  {
   "cell_type": "code",
   "execution_count": 7,
   "metadata": {
    "collapsed": false
   },
   "outputs": [
    {
     "name": "stdout",
     "output_type": "stream",
     "text": [
      "Accuracy: 84.73846153846154\n"
     ]
    }
   ],
   "source": [
    "A = np.array(model.predict(X))"
   ]
  },
  {
   "cell_type": "code",
   "execution_count": null,
   "metadata": {
    "collapsed": true
   },
   "outputs": [],
   "source": []
  }
 ],
 "metadata": {
  "kernelspec": {
   "display_name": "Python 3",
   "language": "python",
   "name": "python3"
  },
  "language_info": {
   "codemirror_mode": {
    "name": "ipython",
    "version": 3
   },
   "file_extension": ".py",
   "mimetype": "text/x-python",
   "name": "python",
   "nbconvert_exporter": "python",
   "pygments_lexer": "ipython3",
   "version": "3.5.2"
  }
 },
 "nbformat": 4,
 "nbformat_minor": 2
}
