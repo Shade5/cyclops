{
 "cells": [
  {
   "cell_type": "code",
   "execution_count": 57,
   "metadata": {
    "collapsed": true
   },
   "outputs": [],
   "source": [
    "import numpy as np\n",
    "from matplotlib import pyplot as plt\n",
    "from scipy.misc import toimage\n",
    "from PIL import Image\n",
    "%matplotlib inline"
   ]
  },
  {
   "cell_type": "code",
   "execution_count": 59,
   "metadata": {
    "collapsed": false
   },
   "outputs": [],
   "source": [
    "X = np.load(\"../resizecrop.npy\")\n",
    "y = np.load(\"../nummertrain.npy\").astype(int)"
   ]
  },
  {
   "cell_type": "code",
   "execution_count": 60,
   "metadata": {
    "collapsed": false
   },
   "outputs": [
    {
     "name": "stdout",
     "output_type": "stream",
     "text": [
      "X shape (33402, 25, 23, 3)\n",
      "y shape (33402, 6)\n"
     ]
    }
   ],
   "source": [
    "print(\"X shape {}\".format(X.shape))\n",
    "print(\"y shape {}\".format(y.shape))"
   ]
  },
  {
   "cell_type": "code",
   "execution_count": 61,
   "metadata": {
    "collapsed": false
   },
   "outputs": [
    {
     "name": "stdout",
     "output_type": "stream",
     "text": [
      "Number of 1 digit images 5137\n",
      "Number of 2 digit images 18130\n",
      "Number of 3 digit images 8691\n",
      "Number of 4 digit images 1434\n",
      "Number of 5 digit images 10\n"
     ]
    }
   ],
   "source": [
    "digit_indices = {1:None, 2:None, 3:None, 4:None, 5:None}\n",
    "\n",
    "for num_digits in digit_indices:\n",
    "    num = np.where(y[..., 5] == num_digits)\n",
    "    digit_indices[num_digits] = num[0]\n",
    "    print(\"Number of {} digit images {}\".format(num_digits, len(digit_indices[num_digits])))"
   ]
  },
  {
   "cell_type": "code",
   "execution_count": 62,
   "metadata": {
    "collapsed": true
   },
   "outputs": [],
   "source": [
    "def create_augumented(X, y, input_size, N = 5, show=False):\n",
    "    \"\"\"\n",
    "    Create a dataset of digits from images of `input_size` adding one extra digit\n",
    "    \"\"\"\n",
    "    num_digit = len(digit_indices[1])\n",
    "    count = 0\n",
    "    for idx in digit_indices[input_size]:\n",
    "        if count > N:\n",
    "            break\n",
    "        digit_in = X[idx]\n",
    "        rand = np.random.randint(1, high=num_digit)\n",
    "        digit_1 = X[digit_indices[1][rand]]\n",
    "\n",
    "        y_in_digit = y[idx]\n",
    "        y_1digit = y[digit_indices[1][rand]]\n",
    "\n",
    "        img = toimage(digit_1)\n",
    "        x_resize = int(25/input_size)\n",
    "        img = img.resize((x_resize, 25))\n",
    "\n",
    "        digit_1 = np.array(img)\n",
    "\n",
    "        y_new = np.zeros(y_1digit.shape)\n",
    "        y_new[5] = input_size + 1\n",
    "        if np.random.randint(2) == 0:\n",
    "            combined_digit = np.concatenate((digit_1, digit_in), axis=1)\n",
    "            y_new[0] = y_1digit[0]\n",
    "            y_new[1] = y[idx][0]\n",
    "            y_new[2] = y[idx][1]\n",
    "            y_new[3] = y[idx][2]\n",
    "            y_new[4] = y[idx][3]\n",
    "        else:\n",
    "            combined_digit = np.concatenate((digit_in, digit_1), axis=1)\n",
    "            y_new[0] = y[idx][0]\n",
    "            y_new[1] = y[idx][1]\n",
    "            y_new[2] = y[idx][2]\n",
    "            y_new[3] = y[idx][3]\n",
    "            y_new[4] = y[idx][4]\n",
    "            y_new[input_size] = y_1digit[0]\n",
    "        combined_digit = np.array(toimage(combined_digit).resize((23, 25)))\n",
    "        y_new = np.array(y_new, dtype=int)\n",
    "        \n",
    "        if show:\n",
    "            print(\"y_1 digit {}, y_2 digit {}\".format(y_1digit, y_in_digit))\n",
    "            print(\"y_new {}\".format(y_new))\n",
    "\n",
    "            plt.imshow(combined_digit)\n",
    "            plt.show()\n",
    "        X = np.concatenate((X, np.array([combined_digit])))\n",
    "        y = np.concatenate((y, np.array([y_new])))\n",
    "        count += 1\n",
    "    return (X, y)"
   ]
  },
  {
   "cell_type": "code",
   "execution_count": 64,
   "metadata": {
    "collapsed": false
   },
   "outputs": [],
   "source": [
    "input_size = 2\n",
    "num_images = 100\n",
    "X_new, y_new = create_augumented(X, y, input_size, num_images)"
   ]
  },
  {
   "cell_type": "code",
   "execution_count": 65,
   "metadata": {
    "collapsed": true
   },
   "outputs": [],
   "source": [
    "np.save(\"augumentedX\"+str(input_size), X_new)\n",
    "np.save(\"augumentedy\"+str(input_size), y_new)"
   ]
  },
  {
   "cell_type": "markdown",
   "metadata": {},
   "source": [
    "# Create more 5 digit images from 4 digits"
   ]
  },
  {
   "cell_type": "code",
   "execution_count": null,
   "metadata": {
    "collapsed": false
   },
   "outputs": [],
   "source": [
    "# digit_3 = X[digit_indices[3]][10]\n",
    "# digit_1 = X[digit_indices[1]][30]\n",
    "# img = toimage(digit_1)\n",
    "# img = img.resize((10, 25), Image.ANTIALIAS)\n",
    "# digit_1 = np.array(img)\n",
    "# combined_digit = np.concatenate((digit_1, digit_3), axis=1)\n",
    "# plt.imshow(combined_digit)\n",
    "# plt.show()"
   ]
  },
  {
   "cell_type": "markdown",
   "metadata": {},
   "source": [
    "# Resize to 25, 23, 3 shape"
   ]
  },
  {
   "cell_type": "code",
   "execution_count": null,
   "metadata": {
    "collapsed": true
   },
   "outputs": [],
   "source": [
    "# combined_digit = np.array(toimage(combined_digit).resize((23, 25)))"
   ]
  },
  {
   "cell_type": "code",
   "execution_count": null,
   "metadata": {
    "collapsed": false
   },
   "outputs": [],
   "source": [
    "# plt.imshow(combined_digit)\n",
    "# plt.show()"
   ]
  },
  {
   "cell_type": "code",
   "execution_count": null,
   "metadata": {
    "collapsed": false
   },
   "outputs": [],
   "source": [
    "# X = np.concatenate((X, np.array([combined_digit])))\n",
    "# X.shape"
   ]
  },
  {
   "cell_type": "code",
   "execution_count": null,
   "metadata": {
    "collapsed": false
   },
   "outputs": [],
   "source": [
    "# y[0].shape"
   ]
  },
  {
   "cell_type": "markdown",
   "metadata": {},
   "source": [
    "# Automate this process : Take all 4 digit numbers and append a random 1 digit"
   ]
  },
  {
   "cell_type": "code",
   "execution_count": null,
   "metadata": {
    "collapsed": false
   },
   "outputs": [],
   "source": [
    "# one_digit = len(digit_indices[1])\n",
    "# count = 0\n",
    "# for idx in digit_indices[2]:\n",
    "#     digit_3 = X[idx]\n",
    "#     rand = np.random.randint(1, high=one_digit)\n",
    "#     digit_1 = X[digit_indices[1][rand]]\n",
    "    \n",
    "#     y_3digit = y[idx]\n",
    "#     y_1digit = y[digit_indices[1][rand]]\n",
    "    \n",
    "#     img = toimage(digit_1)\n",
    "#     img = img.resize((12, 25))\n",
    "    \n",
    "#     digit_1 = np.array(img)\n",
    "    \n",
    "#     y_new = np.zeros(y_1digit.shape)\n",
    "#     y_new[5] = 3\n",
    "#     if np.random.randint(2) == 0:\n",
    "#         combined_digit = np.concatenate((digit_1, digit_3), axis=1)\n",
    "#         y_new[0] = y[digit_indices[1]][rand][0]\n",
    "#         y_new[1] = y[idx][0]\n",
    "#         y_new[2] = y[idx][1]\n",
    "#     else:\n",
    "#         combined_digit = np.concatenate((digit_3, digit_1), axis=1)\n",
    "#         y_new[2] = y[digit_indices[1]][rand][0]\n",
    "#         y_new[0] = y[idx][0]\n",
    "#         y_new[1] = y[idx][1]\n",
    "    \n",
    "#     combined_digit = np.array(toimage(combined_digit).resize((23, 25)))\n",
    "#     y_new = np.array(y_new, dtype=int)\n",
    "# #     print(\"y_1 digit {}, y_2 digit {}\".format(y_1digit, y_3digit))\n",
    "# #     print(\"y_new {}\".format(y_new))\n",
    "    \n",
    "# #     plt.imshow(combined_digit)\n",
    "# #     plt.show()\n",
    "#     print(count)\n",
    "#     X = np.concatenate((X, np.array([combined_digit])))\n",
    "#     y = np.concatenate((y, np.array([y_new])))\n",
    "#     count += 1"
   ]
  }
 ],
 "metadata": {
  "kernelspec": {
   "display_name": "Python 3",
   "language": "python",
   "name": "python3"
  },
  "language_info": {
   "codemirror_mode": {
    "name": "ipython",
    "version": 3
   },
   "file_extension": ".py",
   "mimetype": "text/x-python",
   "name": "python",
   "nbconvert_exporter": "python",
   "pygments_lexer": "ipython3",
   "version": "3.5.2"
  }
 },
 "nbformat": 4,
 "nbformat_minor": 2
}
