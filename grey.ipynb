{
 "cells": [
  {
   "cell_type": "code",
   "execution_count": 1,
   "metadata": {
    "collapsed": false
   },
   "outputs": [
    {
     "name": "stderr",
     "output_type": "stream",
     "text": [
      "Using TensorFlow backend.\n"
     ]
    }
   ],
   "source": [
    "\n",
    "# coding: utf-8\n",
    "\n",
    "# In[8]:\n",
    "\n",
    "import keras\n",
    "import numpy as np\n",
    "from scipy.misc import imresize\n",
    "from matplotlib import pyplot as plt\n",
    "import h5py\n",
    "\n",
    "\n",
    "# In[23]:\n",
    "\n",
    "class SVHN():\n",
    "\n",
    "    path = \"\"\n",
    "\n",
    "    def __init__(self):\n",
    "        self.digit1 = keras.models.load_model('ioncanond1.h5')\n",
    "\n",
    "        self.digit2 = keras.models.load_model('ioncanond2.h5')\n",
    "\n",
    "        self.digit3 = keras.models.load_model('ioncanond3.h5')\n",
    "\n",
    "        self.digit4 = keras.models.load_model('ioncanond4.h5')\n",
    "\n",
    "        self.digit5 = keras.models.load_model('ioncanond5.h5')\n",
    "\n",
    "    def get_sequence(self, image):\n",
    "        n = list(self.numm.predict(imresize(image,(50,50),interp='cubic').reshape((1,50,50,3))))\n",
    "        n = np.argmax(np.array(n).reshape((1,11)),axis=1)\n",
    "        \n",
    "        #A = list(self.model.predict(imresize(image,(50,50),interp='cubic').reshape((1,50,50,3))))\n",
    "        #return([x%10 for x in np.argmax(np.array(A).reshape((5,11)),axis=1)[0:n[0]] if x != 0])\n",
    "        #return([x%10 for x in np.argmax(np.array(A).reshape((5,11)),axis=1)[0:n[0]]])\n",
    "        A = self.model.predict(imresize(image,(50,50),interp='cubic').reshape((1,50,50,3)))\n",
    "        ttu = np.zeros(5)\n",
    "        gg = [x%10 for x in np.argmax(np.array(A).reshape((5,11)),axis=1)[0:n[0]] if x != 0]\n",
    "        ttu[0:min(n[0],len(gg))] = gg\n",
    "        return ttu\n",
    "    \n",
    "    def indiv(self,image):\n",
    "        yot =[]\n",
    "        d1 = list(self.digit1.predict(imresize(image,(50,50),interp='cubic').reshape((1,50,50,3))))\n",
    "        yot.append([x%10 for x in np.argmax(np.array(d1).reshape((1,11)),axis=1) if x != 0])\n",
    "        \n",
    "        d2 = list(self.digit2.predict(imresize(image,(50,50),interp='cubic').reshape((1,50,50,3))))\n",
    "        yot.append([x%10 for x in np.argmax(np.array(d2).reshape((1,11)),axis=1) if x != 0])\n",
    "        \n",
    "        d3 = list(self.digit3.predict(imresize(image,(50,50),interp='cubic').reshape((1,50,50,3))))\n",
    "        yot.append([x%10 for x in np.argmax(np.array(d3).reshape((1,11)),axis=1) if x != 0])\n",
    "        \n",
    "        d4 = list(self.digit4.predict(imresize(image,(50,50),interp='cubic').reshape((1,50,50,3))))\n",
    "        yot.append([x%10 for x in np.argmax(np.array(d4).reshape((1,11)),axis=1) if x != 0])\n",
    "        \n",
    "        d5 = list(self.digit5.predict(imresize(image,(50,50),interp='cubic').reshape((1,50,50,3))))\n",
    "        yot.append([x%10 for x in np.argmax(np.array(d5).reshape((1,11)),axis=1) if x != 0])\n",
    "        \n",
    "        return yot\n",
    "        \n",
    "    def load_model(self):\n",
    "        f = h5py.File('ioncannonaug.h5', 'r+')\n",
    "        del f['optimizer_weights']\n",
    "        f.close()\n",
    "        self.model = keras.models.load_model(\"ioncannonaug.h5\")\n",
    "        self.numm = keras.models.load_model(\"ioncanonnum.h5\")\n"
   ]
  },
  {
   "cell_type": "code",
   "execution_count": 5,
   "metadata": {
    "collapsed": false
   },
   "outputs": [
    {
     "data": {
      "image/png": "[encoded data removed]",
      "text/plain": [
       "<matplotlib.figure.Figure at 0x7f3f6e1837b8>"
      ]
     },
     "metadata": {},
     "output_type": "display_data"
    },
    {
     "name": "stdout",
     "output_type": "stream",
     "text": [
      "[6, 7]\n",
      "[6.0 0.0 0.0 0.0 0.0 1.0]\n"
     ]
    }
   ],
   "source": [
    "if __name__ == \"__main__\":\n",
    "        obj=SVHN.load_model()\n",
    "        X = np.load(\"aug/resize_cropImage.npy\")[0:13000,:]\n",
    "        num = np.random.randint(len(X))\n",
    "        plt.imshow(X[num])\n",
    "        plt.show()\n",
    "        print(obj.get_sequence(X[num]))\n",
    "        nummertrain=np.load(\"aug/nummertrain.npy\") \n",
    "        print(nummertrain[num])"
   ]
  },
  {
   "cell_type": "code",
   "execution_count": 2,
   "metadata": {
    "collapsed": false
   },
   "outputs": [
    {
     "ename": "KeyError",
     "evalue": "\"Couldn't delete link (Can't delete self)\"",
     "output_type": "error",
     "traceback": [
      "\u001b[0;31m---------------------------------------------------------------------------\u001b[0m",
      "\u001b[0;31mKeyError\u001b[0m                                  Traceback (most recent call last)",
      "\u001b[0;32m<ipython-input-2-5e3716c216f9>\u001b[0m in \u001b[0;36m<module>\u001b[0;34m()\u001b[0m\n\u001b[1;32m      2\u001b[0m \u001b[0mnummertrain\u001b[0m\u001b[0;34m=\u001b[0m\u001b[0mnp\u001b[0m\u001b[0;34m.\u001b[0m\u001b[0mload\u001b[0m\u001b[0;34m(\u001b[0m\u001b[0;34m\"aug/nummertrain.npy\"\u001b[0m\u001b[0;34m)\u001b[0m\u001b[0;34m\u001b[0m\u001b[0m\n\u001b[1;32m      3\u001b[0m \u001b[0mS\u001b[0m \u001b[0;34m=\u001b[0m \u001b[0mSVHN\u001b[0m\u001b[0;34m(\u001b[0m\u001b[0;34m)\u001b[0m\u001b[0;34m\u001b[0m\u001b[0m\n\u001b[0;32m----> 4\u001b[0;31m \u001b[0mS\u001b[0m\u001b[0;34m.\u001b[0m\u001b[0mload_model\u001b[0m\u001b[0;34m(\u001b[0m\u001b[0;34m)\u001b[0m\u001b[0;34m\u001b[0m\u001b[0m\n\u001b[0m",
      "\u001b[0;32m<ipython-input-1-478b07dbddb1>\u001b[0m in \u001b[0;36mload_model\u001b[0;34m(self)\u001b[0m\n\u001b[1;32m     62\u001b[0m     \u001b[0;32mdef\u001b[0m \u001b[0mload_model\u001b[0m\u001b[0;34m(\u001b[0m\u001b[0mself\u001b[0m\u001b[0;34m)\u001b[0m\u001b[0;34m:\u001b[0m\u001b[0;34m\u001b[0m\u001b[0m\n\u001b[1;32m     63\u001b[0m         \u001b[0mf\u001b[0m \u001b[0;34m=\u001b[0m \u001b[0mh5py\u001b[0m\u001b[0;34m.\u001b[0m\u001b[0mFile\u001b[0m\u001b[0;34m(\u001b[0m\u001b[0;34m'ioncannonaug.h5'\u001b[0m\u001b[0;34m,\u001b[0m \u001b[0;34m'r+'\u001b[0m\u001b[0;34m)\u001b[0m\u001b[0;34m\u001b[0m\u001b[0m\n\u001b[0;32m---> 64\u001b[0;31m         \u001b[0;32mdel\u001b[0m \u001b[0mf\u001b[0m\u001b[0;34m[\u001b[0m\u001b[0;34m'optimizer_weights'\u001b[0m\u001b[0;34m]\u001b[0m\u001b[0;34m\u001b[0m\u001b[0m\n\u001b[0m\u001b[1;32m     65\u001b[0m         \u001b[0mf\u001b[0m\u001b[0;34m.\u001b[0m\u001b[0mclose\u001b[0m\u001b[0;34m(\u001b[0m\u001b[0;34m)\u001b[0m\u001b[0;34m\u001b[0m\u001b[0m\n\u001b[1;32m     66\u001b[0m         \u001b[0mself\u001b[0m\u001b[0;34m.\u001b[0m\u001b[0mmodel\u001b[0m \u001b[0;34m=\u001b[0m \u001b[0mkeras\u001b[0m\u001b[0;34m.\u001b[0m\u001b[0mmodels\u001b[0m\u001b[0;34m.\u001b[0m\u001b[0mload_model\u001b[0m\u001b[0;34m(\u001b[0m\u001b[0;34m\"ioncannonaug.h5\"\u001b[0m\u001b[0;34m)\u001b[0m\u001b[0;34m\u001b[0m\u001b[0m\n",
      "\u001b[0;32mh5py/_objects.pyx\u001b[0m in \u001b[0;36mh5py._objects.with_phil.wrapper (/tmp/pip-huypgcah-build/h5py/_objects.c:2840)\u001b[0;34m()\u001b[0m\n",
      "\u001b[0;32mh5py/_objects.pyx\u001b[0m in \u001b[0;36mh5py._objects.with_phil.wrapper (/tmp/pip-huypgcah-build/h5py/_objects.c:2798)\u001b[0;34m()\u001b[0m\n",
      "\u001b[0;32m/home/a/workspace/venv/lib/python3.5/site-packages/h5py/_hl/group.py\u001b[0m in \u001b[0;36m__delitem__\u001b[0;34m(self, name)\u001b[0m\n\u001b[1;32m    295\u001b[0m     \u001b[0;32mdef\u001b[0m \u001b[0m__delitem__\u001b[0m\u001b[0;34m(\u001b[0m\u001b[0mself\u001b[0m\u001b[0;34m,\u001b[0m \u001b[0mname\u001b[0m\u001b[0;34m)\u001b[0m\u001b[0;34m:\u001b[0m\u001b[0;34m\u001b[0m\u001b[0m\n\u001b[1;32m    296\u001b[0m         \u001b[0;34m\"\"\" Delete (unlink) an item from this group. \"\"\"\u001b[0m\u001b[0;34m\u001b[0m\u001b[0m\n\u001b[0;32m--> 297\u001b[0;31m         \u001b[0mself\u001b[0m\u001b[0;34m.\u001b[0m\u001b[0mid\u001b[0m\u001b[0;34m.\u001b[0m\u001b[0munlink\u001b[0m\u001b[0;34m(\u001b[0m\u001b[0mself\u001b[0m\u001b[0;34m.\u001b[0m\u001b[0m_e\u001b[0m\u001b[0;34m(\u001b[0m\u001b[0mname\u001b[0m\u001b[0;34m)\u001b[0m\u001b[0;34m)\u001b[0m\u001b[0;34m\u001b[0m\u001b[0m\n\u001b[0m\u001b[1;32m    298\u001b[0m \u001b[0;34m\u001b[0m\u001b[0m\n\u001b[1;32m    299\u001b[0m     \u001b[0;34m@\u001b[0m\u001b[0mwith_phil\u001b[0m\u001b[0;34m\u001b[0m\u001b[0m\n",
      "\u001b[0;32mh5py/_objects.pyx\u001b[0m in \u001b[0;36mh5py._objects.with_phil.wrapper (/tmp/pip-huypgcah-build/h5py/_objects.c:2840)\u001b[0;34m()\u001b[0m\n",
      "\u001b[0;32mh5py/_objects.pyx\u001b[0m in \u001b[0;36mh5py._objects.with_phil.wrapper (/tmp/pip-huypgcah-build/h5py/_objects.c:2798)\u001b[0;34m()\u001b[0m\n",
      "\u001b[0;32mh5py/h5g.pyx\u001b[0m in \u001b[0;36mh5py.h5g.GroupID.unlink (/tmp/pip-huypgcah-build/h5py/h5g.c:4165)\u001b[0;34m()\u001b[0m\n",
      "\u001b[0;31mKeyError\u001b[0m: \"Couldn't delete link (Can't delete self)\""
     ]
    }
   ],
   "source": [
    "X = np.load(\"aug/resize_cropImage.npy\")\n",
    "nummertrain=np.load(\"aug/nummertrain.npy\") \n",
    "S = SVHN()\n",
    "S.load_model()"
   ]
  },
  {
   "cell_type": "code",
   "execution_count": null,
   "metadata": {
    "collapsed": false
   },
   "outputs": [],
   "source": [
    "num = np.random.randint(len(X))\n",
    "plt.imshow(X[num])\n",
    "plt.show()\n",
    "print(S.indiv(X[num]))\n",
    "print(S.get_sequence(X[num]))\n",
    "print([x%10 for x in nummertrain[num]])\n",
    "print(np.array_equal(S.get_sequence(X[num]),[x%10 for x in nummertrain[num]][0:5]))"
   ]
  },
  {
   "cell_type": "code",
   "execution_count": 5,
   "metadata": {
    "collapsed": false
   },
   "outputs": [
    {
     "name": "stdout",
     "output_type": "stream",
     "text": [
      "83.21956769055745\n"
     ]
    }
   ],
   "source": [
    "c=0\n",
    "for i in range(len(X)):\n",
    "    c+=np.array_equal(S.get_sequence(X[i]),[x%10 for x in nummertrain[i]][0:5])\n",
    "print(100*c/len(X))"
   ]
  },
  {
   "cell_type": "code",
   "execution_count": null,
   "metadata": {
    "collapsed": true
   },
   "outputs": [],
   "source": []
  }
 ],
 "metadata": {
  "kernelspec": {
   "display_name": "Python 3",
   "language": "python",
   "name": "python3"
  },
  "language_info": {
   "codemirror_mode": {
    "name": "ipython",
    "version": 3
   },
   "file_extension": ".py",
   "mimetype": "text/x-python",
   "name": "python",
   "nbconvert_exporter": "python",
   "pygments_lexer": "ipython3",
   "version": "3.5.2"
  }
 },
 "nbformat": 4,
 "nbformat_minor": 2
}
