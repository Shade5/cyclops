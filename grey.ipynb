{
 "cells": [
  {
   "cell_type": "code",
   "execution_count": 10,
   "metadata": {
    "collapsed": false
   },
   "outputs": [
    {
     "data": {
      "image/png": "[encoded data removed]",
      "text/plain": [
       "<matplotlib.figure.Figure at 0x7f6cb1d61d30>"
      ]
     },
     "metadata": {},
     "output_type": "display_data"
    },
    {
     "name": "stdout",
     "output_type": "stream",
     "text": [
      "[4]\n"
     ]
    }
   ],
   "source": [
    "import keras\n",
    "import numpy as np\n",
    "from scipy.misc import imresize\n",
    "from matplotlib import pyplot as plt\n",
    "\n",
    "class SVHN():\n",
    "\n",
    "    path = \"\"\n",
    "\n",
    "    def __init__(self):\n",
    "        self.i=1\n",
    "\n",
    "    def get_sequence(self, image):\n",
    "        A = list(self.model.predict(imresize(image,(25,23),interp='cubic').reshape((1,25,23,3))))\n",
    "        return([x%10 for x in np.argmax(np.array(A).reshape((5,11)),axis=1) if x != 0])\n",
    "    \n",
    "    def load_model(self):\n",
    "        self.model = keras.models.load_model(\"ioncanondprime.h5\")\n",
    "\n",
    "if __name__ == \"__main__\":\n",
    "        S = SVHN()\n",
    "        S.load_model()\n",
    "        X = np.load(\"resizecrop.npy\")[0:13000,:]\n",
    "        num = np.random.randint(len(X))\n",
    "        plt.imshow(X[num])\n",
    "        plt.show()\n",
    "        print(S.get_sequence(X[num]))\n",
    "\n"
   ]
  },
  {
   "cell_type": "code",
   "execution_count": null,
   "metadata": {
    "collapsed": true
   },
   "outputs": [],
   "source": []
  }
 ],
 "metadata": {
  "kernelspec": {
   "display_name": "Python 3",
   "language": "python",
   "name": "python3"
  },
  "language_info": {
   "codemirror_mode": {
    "name": "ipython",
    "version": 3
   },
   "file_extension": ".py",
   "mimetype": "text/x-python",
   "name": "python",
   "nbconvert_exporter": "python",
   "pygments_lexer": "ipython3",
   "version": "3.5.2"
  }
 },
 "nbformat": 4,
 "nbformat_minor": 2
}
