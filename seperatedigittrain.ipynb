{
 "cells": [
  {
   "cell_type": "code",
   "execution_count": 2,
   "metadata": {
    "collapsed": false
   },
   "outputs": [
    {
     "name": "stderr",
     "output_type": "stream",
     "text": [
      "Using TensorFlow backend.\n"
     ]
    }
   ],
   "source": [
    "import numpy as np\n",
    "from matplotlib import pyplot as plt\n",
    "from sklearn.model_selection import train_test_split\n",
    "from sklearn.preprocessing import LabelBinarizer\n",
    "\n",
    "import keras\n",
    "from keras.preprocessing.image import ImageDataGenerator\n",
    "from keras.models import Sequential, Model\n",
    "from keras.layers import Dense, Dropout, Activation, Flatten, Input\n",
    "from keras.layers import Conv2D, MaxPooling2D\n",
    "from keras.callbacks import ModelCheckpoint\n",
    "from keras.constraints import maxnorm\n",
    "from keras.optimizers import SGD\n",
    "from keras.models import load_model\n",
    "\n",
    "from IPython.display import SVG,display\n",
    "from keras.utils.vis_utils import model_to_dot\n",
    "\n",
    "batch_size = 32\n",
    "num_classes = 11\n",
    "epochs = 10"
   ]
  },
  {
   "cell_type": "code",
   "execution_count": 3,
   "metadata": {
    "collapsed": true
   },
   "outputs": [],
   "source": [
    "def hot(y):\n",
    "    label_binarizer = LabelBinarizer()\n",
    "    label_binarizer.fit(range(11))\n",
    "    new_y = np.zeros((y.shape[0],y.shape[1]*num_classes))\n",
    "    for i in range(len(y)):\n",
    "        new_y[i,:] = label_binarizer.transform(y[i]).flatten()\n",
    "    return new_y"
   ]
  },
  {
   "cell_type": "code",
   "execution_count": 4,
   "metadata": {
    "collapsed": false
   },
   "outputs": [],
   "source": [
    "X = np.load(\"resizecrop.npy\")\n",
    "y = np.load(\"nummertrain.npy\").astype(int)"
   ]
  },
  {
   "cell_type": "code",
   "execution_count": 5,
   "metadata": {
    "collapsed": true
   },
   "outputs": [],
   "source": [
    "y = hot(y)\n",
    "x_train, x_test, y_train, y_test = train_test_split(\n",
    "    X, y, test_size=0.2)"
   ]
  },
  {
   "cell_type": "code",
   "execution_count": 6,
   "metadata": {
    "collapsed": false
   },
   "outputs": [
    {
     "name": "stdout",
     "output_type": "stream",
     "text": [
      "x_train shape: (26721, 25, 23, 3)\n",
      "y_train shape: (26721, 11)\n",
      "26721 train samples\n"
     ]
    }
   ],
   "source": [
    "y1 = y_train[:,44:55]\n",
    "y1_t = y_test[:,44:55]\n",
    "print('x_train shape:', x_train.shape)\n",
    "print('y_train shape:', y1.shape)\n",
    "print(x_train.shape[0], 'train samples')"
   ]
  },
  {
   "cell_type": "code",
   "execution_count": 7,
   "metadata": {
    "collapsed": false
   },
   "outputs": [
    {
     "name": "stdout",
     "output_type": "stream",
     "text": [
      "<keras.engine.training.Model object at 0x7fa5b9d69400>\n"
     ]
    }
   ],
   "source": [
    "numtowerfre = load_model('numtower.h5')\n",
    "numtowerfre.name =\"Numbertower\"\n",
    "print(numtowerfre)"
   ]
  },
  {
   "cell_type": "code",
   "execution_count": 18,
   "metadata": {
    "collapsed": false
   },
   "outputs": [
    {
     "data": {
      "image/svg+xml": [
       "<svg height=\"1578pt\" viewBox=\"0.00 0.00 315.50 1578.00\" width=\"316pt\" xmlns=\"http://www.w3.org/2000/svg\" xmlns:xlink=\"http://www.w3.org/1999/xlink\">\n",
       "<g class=\"graph\" id=\"graph0\" transform=\"scale(1 1) rotate(0) translate(4 1574)\">\n",
       "<title>G</title>\n",
       "<polygon fill=\"white\" points=\"-4,4 -4,-1574 311.5,-1574 311.5,4 -4,4\" stroke=\"none\"/>\n",
       "<!-- 139662620953344 -->\n",
       "<g class=\"node\" id=\"node1\"><title>139662620953344</title>\n",
       "<polygon fill=\"none\" points=\"96,-1533.5 96,-1569.5 221,-1569.5 221,-1533.5 96,-1533.5\" stroke=\"black\"/>\n",
       "<text font-family=\"Times,serif\" font-size=\"14.00\" text-anchor=\"middle\" x=\"158.5\" y=\"-1547.8\">input_1: InputLayer</text>\n",
       "</g>\n",
       "<!-- 139662620953288 -->\n",
       "<g class=\"node\" id=\"node2\"><title>139662620953288</title>\n",
       "<polygon fill=\"none\" points=\"35,-1460.5 35,-1496.5 158,-1496.5 158,-1460.5 35,-1460.5\" stroke=\"black\"/>\n",
       "<text font-family=\"Times,serif\" font-size=\"14.00\" text-anchor=\"middle\" x=\"96.5\" y=\"-1474.8\">conv2d_1: Conv2D</text>\n",
       "</g>\n",
       "<!-- 139662620953344&#45;&gt;139662620953288 -->\n",
       "<g class=\"edge\" id=\"edge1\"><title>139662620953344-&gt;139662620953288</title>\n",
       "<path d=\"M143.492,-1533.31C135.876,-1524.59 126.487,-1513.84 118.109,-1504.25\" fill=\"none\" stroke=\"black\"/>\n",
       "<polygon fill=\"black\" points=\"120.584,-1501.76 111.37,-1496.53 115.311,-1506.36 120.584,-1501.76\" stroke=\"black\"/>\n",
       "</g>\n",
       "<!-- 139662620990152 -->\n",
       "<g class=\"node\" id=\"node18\"><title>139662620990152</title>\n",
       "<polygon fill=\"none\" points=\"171.5,-1387.5 171.5,-1423.5 307.5,-1423.5 307.5,-1387.5 171.5,-1387.5\" stroke=\"black\"/>\n",
       "<text font-family=\"Times,serif\" font-size=\"14.00\" text-anchor=\"middle\" x=\"239.5\" y=\"-1401.8\">Numbertower: Model</text>\n",
       "</g>\n",
       "<!-- 139662620953344&#45;&gt;139662620990152 -->\n",
       "<g class=\"edge\" id=\"edge17\"><title>139662620953344-&gt;139662620990152</title>\n",
       "<path d=\"M168.11,-1533.42C182.177,-1508.41 208.484,-1461.64 224.936,-1432.39\" fill=\"none\" stroke=\"black\"/>\n",
       "<polygon fill=\"black\" points=\"228.051,-1433.99 229.903,-1423.56 221.949,-1430.56 228.051,-1433.99\" stroke=\"black\"/>\n",
       "</g>\n",
       "<!-- 139662620954184 -->\n",
       "<g class=\"node\" id=\"node3\"><title>139662620954184</title>\n",
       "<polygon fill=\"none\" points=\"5.5,-1387.5 5.5,-1423.5 153.5,-1423.5 153.5,-1387.5 5.5,-1387.5\" stroke=\"black\"/>\n",
       "<text font-family=\"Times,serif\" font-size=\"14.00\" text-anchor=\"middle\" x=\"79.5\" y=\"-1401.8\">activation_1: Activation</text>\n",
       "</g>\n",
       "<!-- 139662620953288&#45;&gt;139662620954184 -->\n",
       "<g class=\"edge\" id=\"edge2\"><title>139662620953288-&gt;139662620954184</title>\n",
       "<path d=\"M92.3848,-1460.31C90.4428,-1452.2 88.0803,-1442.34 85.9113,-1433.28\" fill=\"none\" stroke=\"black\"/>\n",
       "<polygon fill=\"black\" points=\"89.3097,-1432.44 83.5773,-1423.53 82.5022,-1434.07 89.3097,-1432.44\" stroke=\"black\"/>\n",
       "</g>\n",
       "<!-- 139663225069128 -->\n",
       "<g class=\"node\" id=\"node4\"><title>139663225069128</title>\n",
       "<polygon fill=\"none\" points=\"32,-1314.5 32,-1350.5 155,-1350.5 155,-1314.5 32,-1314.5\" stroke=\"black\"/>\n",
       "<text font-family=\"Times,serif\" font-size=\"14.00\" text-anchor=\"middle\" x=\"93.5\" y=\"-1328.8\">conv2d_2: Conv2D</text>\n",
       "</g>\n",
       "<!-- 139662620954184&#45;&gt;139663225069128 -->\n",
       "<g class=\"edge\" id=\"edge3\"><title>139662620954184-&gt;139663225069128</title>\n",
       "<path d=\"M82.889,-1387.31C84.4711,-1379.29 86.392,-1369.55 88.1624,-1360.57\" fill=\"none\" stroke=\"black\"/>\n",
       "<polygon fill=\"black\" points=\"91.6414,-1361.02 90.1422,-1350.53 84.7737,-1359.66 91.6414,-1361.02\" stroke=\"black\"/>\n",
       "</g>\n",
       "<!-- 139663225068456 -->\n",
       "<g class=\"node\" id=\"node5\"><title>139663225068456</title>\n",
       "<polygon fill=\"none\" points=\"26.5,-1241.5 26.5,-1277.5 174.5,-1277.5 174.5,-1241.5 26.5,-1241.5\" stroke=\"black\"/>\n",
       "<text font-family=\"Times,serif\" font-size=\"14.00\" text-anchor=\"middle\" x=\"100.5\" y=\"-1255.8\">activation_2: Activation</text>\n",
       "</g>\n",
       "<!-- 139663225069128&#45;&gt;139663225068456 -->\n",
       "<g class=\"edge\" id=\"edge4\"><title>139663225069128-&gt;139663225068456</title>\n",
       "<path d=\"M95.1945,-1314.31C95.9855,-1306.29 96.946,-1296.55 97.8312,-1287.57\" fill=\"none\" stroke=\"black\"/>\n",
       "<polygon fill=\"black\" points=\"101.323,-1287.82 98.8211,-1277.53 94.3567,-1287.14 101.323,-1287.82\" stroke=\"black\"/>\n",
       "</g>\n",
       "<!-- 139663224635176 -->\n",
       "<g class=\"node\" id=\"node6\"><title>139663224635176</title>\n",
       "<polygon fill=\"none\" points=\"0,-1168.5 0,-1204.5 207,-1204.5 207,-1168.5 0,-1168.5\" stroke=\"black\"/>\n",
       "<text font-family=\"Times,serif\" font-size=\"14.00\" text-anchor=\"middle\" x=\"103.5\" y=\"-1182.8\">max_pooling2d_1: MaxPooling2D</text>\n",
       "</g>\n",
       "<!-- 139663225068456&#45;&gt;139663224635176 -->\n",
       "<g class=\"edge\" id=\"edge5\"><title>139663225068456-&gt;139663224635176</title>\n",
       "<path d=\"M101.226,-1241.31C101.565,-1233.29 101.977,-1223.55 102.356,-1214.57\" fill=\"none\" stroke=\"black\"/>\n",
       "<polygon fill=\"black\" points=\"105.855,-1214.67 102.78,-1204.53 98.8613,-1214.37 105.855,-1214.67\" stroke=\"black\"/>\n",
       "</g>\n",
       "<!-- 139663224632600 -->\n",
       "<g class=\"node\" id=\"node7\"><title>139663224632600</title>\n",
       "<polygon fill=\"none\" points=\"44,-1095.5 44,-1131.5 167,-1131.5 167,-1095.5 44,-1095.5\" stroke=\"black\"/>\n",
       "<text font-family=\"Times,serif\" font-size=\"14.00\" text-anchor=\"middle\" x=\"105.5\" y=\"-1109.8\">conv2d_3: Conv2D</text>\n",
       "</g>\n",
       "<!-- 139663224635176&#45;&gt;139663224632600 -->\n",
       "<g class=\"edge\" id=\"edge6\"><title>139663224635176-&gt;139663224632600</title>\n",
       "<path d=\"M103.984,-1168.31C104.21,-1160.29 104.485,-1150.55 104.737,-1141.57\" fill=\"none\" stroke=\"black\"/>\n",
       "<polygon fill=\"black\" points=\"108.237,-1141.62 105.02,-1131.53 101.24,-1141.43 108.237,-1141.62\" stroke=\"black\"/>\n",
       "</g>\n",
       "<!-- 139663224408888 -->\n",
       "<g class=\"node\" id=\"node8\"><title>139663224408888</title>\n",
       "<polygon fill=\"none\" points=\"32.5,-1022.5 32.5,-1058.5 180.5,-1058.5 180.5,-1022.5 32.5,-1022.5\" stroke=\"black\"/>\n",
       "<text font-family=\"Times,serif\" font-size=\"14.00\" text-anchor=\"middle\" x=\"106.5\" y=\"-1036.8\">activation_3: Activation</text>\n",
       "</g>\n",
       "<!-- 139663224632600&#45;&gt;139663224408888 -->\n",
       "<g class=\"edge\" id=\"edge7\"><title>139663224632600-&gt;139663224408888</title>\n",
       "<path d=\"M105.742,-1095.31C105.855,-1087.29 105.992,-1077.55 106.119,-1068.57\" fill=\"none\" stroke=\"black\"/>\n",
       "<polygon fill=\"black\" points=\"109.619,-1068.58 106.26,-1058.53 102.62,-1068.48 109.619,-1068.58\" stroke=\"black\"/>\n",
       "</g>\n",
       "<!-- 139663224519256 -->\n",
       "<g class=\"node\" id=\"node9\"><title>139663224519256</title>\n",
       "<polygon fill=\"none\" points=\"45,-949.5 45,-985.5 168,-985.5 168,-949.5 45,-949.5\" stroke=\"black\"/>\n",
       "<text font-family=\"Times,serif\" font-size=\"14.00\" text-anchor=\"middle\" x=\"106.5\" y=\"-963.8\">conv2d_4: Conv2D</text>\n",
       "</g>\n",
       "<!-- 139663224408888&#45;&gt;139663224519256 -->\n",
       "<g class=\"edge\" id=\"edge8\"><title>139663224408888-&gt;139663224519256</title>\n",
       "<path d=\"M106.5,-1022.31C106.5,-1014.29 106.5,-1004.55 106.5,-995.569\" fill=\"none\" stroke=\"black\"/>\n",
       "<polygon fill=\"black\" points=\"110,-995.529 106.5,-985.529 103,-995.529 110,-995.529\" stroke=\"black\"/>\n",
       "</g>\n",
       "<!-- 139663224113528 -->\n",
       "<g class=\"node\" id=\"node10\"><title>139663224113528</title>\n",
       "<polygon fill=\"none\" points=\"32.5,-876.5 32.5,-912.5 180.5,-912.5 180.5,-876.5 32.5,-876.5\" stroke=\"black\"/>\n",
       "<text font-family=\"Times,serif\" font-size=\"14.00\" text-anchor=\"middle\" x=\"106.5\" y=\"-890.8\">activation_4: Activation</text>\n",
       "</g>\n",
       "<!-- 139663224519256&#45;&gt;139663224113528 -->\n",
       "<g class=\"edge\" id=\"edge9\"><title>139663224519256-&gt;139663224113528</title>\n",
       "<path d=\"M106.5,-949.313C106.5,-941.289 106.5,-931.547 106.5,-922.569\" fill=\"none\" stroke=\"black\"/>\n",
       "<polygon fill=\"black\" points=\"110,-922.529 106.5,-912.529 103,-922.529 110,-922.529\" stroke=\"black\"/>\n",
       "</g>\n",
       "<!-- 139663224554328 -->\n",
       "<g class=\"node\" id=\"node11\"><title>139663224554328</title>\n",
       "<polygon fill=\"none\" points=\"3,-803.5 3,-839.5 210,-839.5 210,-803.5 3,-803.5\" stroke=\"black\"/>\n",
       "<text font-family=\"Times,serif\" font-size=\"14.00\" text-anchor=\"middle\" x=\"106.5\" y=\"-817.8\">max_pooling2d_2: MaxPooling2D</text>\n",
       "</g>\n",
       "<!-- 139663224113528&#45;&gt;139663224554328 -->\n",
       "<g class=\"edge\" id=\"edge10\"><title>139663224113528-&gt;139663224554328</title>\n",
       "<path d=\"M106.5,-876.313C106.5,-868.289 106.5,-858.547 106.5,-849.569\" fill=\"none\" stroke=\"black\"/>\n",
       "<polygon fill=\"black\" points=\"110,-849.529 106.5,-839.529 103,-849.529 110,-849.529\" stroke=\"black\"/>\n",
       "</g>\n",
       "<!-- 139663224555000 -->\n",
       "<g class=\"node\" id=\"node12\"><title>139663224555000</title>\n",
       "<polygon fill=\"none\" points=\"45,-730.5 45,-766.5 168,-766.5 168,-730.5 45,-730.5\" stroke=\"black\"/>\n",
       "<text font-family=\"Times,serif\" font-size=\"14.00\" text-anchor=\"middle\" x=\"106.5\" y=\"-744.8\">conv2d_5: Conv2D</text>\n",
       "</g>\n",
       "<!-- 139663224554328&#45;&gt;139663224555000 -->\n",
       "<g class=\"edge\" id=\"edge11\"><title>139663224554328-&gt;139663224555000</title>\n",
       "<path d=\"M106.5,-803.313C106.5,-795.289 106.5,-785.547 106.5,-776.569\" fill=\"none\" stroke=\"black\"/>\n",
       "<polygon fill=\"black\" points=\"110,-776.529 106.5,-766.529 103,-776.529 110,-776.529\" stroke=\"black\"/>\n",
       "</g>\n",
       "<!-- 139663224256888 -->\n",
       "<g class=\"node\" id=\"node13\"><title>139663224256888</title>\n",
       "<polygon fill=\"none\" points=\"32.5,-657.5 32.5,-693.5 180.5,-693.5 180.5,-657.5 32.5,-657.5\" stroke=\"black\"/>\n",
       "<text font-family=\"Times,serif\" font-size=\"14.00\" text-anchor=\"middle\" x=\"106.5\" y=\"-671.8\">activation_5: Activation</text>\n",
       "</g>\n",
       "<!-- 139663224555000&#45;&gt;139663224256888 -->\n",
       "<g class=\"edge\" id=\"edge12\"><title>139663224555000-&gt;139663224256888</title>\n",
       "<path d=\"M106.5,-730.313C106.5,-722.289 106.5,-712.547 106.5,-703.569\" fill=\"none\" stroke=\"black\"/>\n",
       "<polygon fill=\"black\" points=\"110,-703.529 106.5,-693.529 103,-703.529 110,-703.529\" stroke=\"black\"/>\n",
       "</g>\n",
       "<!-- 139663224185352 -->\n",
       "<g class=\"node\" id=\"node14\"><title>139663224185352</title>\n",
       "<polygon fill=\"none\" points=\"45,-584.5 45,-620.5 168,-620.5 168,-584.5 45,-584.5\" stroke=\"black\"/>\n",
       "<text font-family=\"Times,serif\" font-size=\"14.00\" text-anchor=\"middle\" x=\"106.5\" y=\"-598.8\">conv2d_6: Conv2D</text>\n",
       "</g>\n",
       "<!-- 139663224256888&#45;&gt;139663224185352 -->\n",
       "<g class=\"edge\" id=\"edge13\"><title>139663224256888-&gt;139663224185352</title>\n",
       "<path d=\"M106.5,-657.313C106.5,-649.289 106.5,-639.547 106.5,-630.569\" fill=\"none\" stroke=\"black\"/>\n",
       "<polygon fill=\"black\" points=\"110,-630.529 106.5,-620.529 103,-630.529 110,-630.529\" stroke=\"black\"/>\n",
       "</g>\n",
       "<!-- 139663224335664 -->\n",
       "<g class=\"node\" id=\"node15\"><title>139663224335664</title>\n",
       "<polygon fill=\"none\" points=\"32.5,-511.5 32.5,-547.5 180.5,-547.5 180.5,-511.5 32.5,-511.5\" stroke=\"black\"/>\n",
       "<text font-family=\"Times,serif\" font-size=\"14.00\" text-anchor=\"middle\" x=\"106.5\" y=\"-525.8\">activation_6: Activation</text>\n",
       "</g>\n",
       "<!-- 139663224185352&#45;&gt;139663224335664 -->\n",
       "<g class=\"edge\" id=\"edge14\"><title>139663224185352-&gt;139663224335664</title>\n",
       "<path d=\"M106.5,-584.313C106.5,-576.289 106.5,-566.547 106.5,-557.569\" fill=\"none\" stroke=\"black\"/>\n",
       "<polygon fill=\"black\" points=\"110,-557.529 106.5,-547.529 103,-557.529 110,-557.529\" stroke=\"black\"/>\n",
       "</g>\n",
       "<!-- 139663223922080 -->\n",
       "<g class=\"node\" id=\"node16\"><title>139663223922080</title>\n",
       "<polygon fill=\"none\" points=\"3,-438.5 3,-474.5 210,-474.5 210,-438.5 3,-438.5\" stroke=\"black\"/>\n",
       "<text font-family=\"Times,serif\" font-size=\"14.00\" text-anchor=\"middle\" x=\"106.5\" y=\"-452.8\">max_pooling2d_3: MaxPooling2D</text>\n",
       "</g>\n",
       "<!-- 139663224335664&#45;&gt;139663223922080 -->\n",
       "<g class=\"edge\" id=\"edge15\"><title>139663224335664-&gt;139663223922080</title>\n",
       "<path d=\"M106.5,-511.313C106.5,-503.289 106.5,-493.547 106.5,-484.569\" fill=\"none\" stroke=\"black\"/>\n",
       "<polygon fill=\"black\" points=\"110,-484.529 106.5,-474.529 103,-484.529 110,-484.529\" stroke=\"black\"/>\n",
       "</g>\n",
       "<!-- 139663223922640 -->\n",
       "<g class=\"node\" id=\"node17\"><title>139663223922640</title>\n",
       "<polygon fill=\"none\" points=\"76.5,-365.5 76.5,-401.5 186.5,-401.5 186.5,-365.5 76.5,-365.5\" stroke=\"black\"/>\n",
       "<text font-family=\"Times,serif\" font-size=\"14.00\" text-anchor=\"middle\" x=\"131.5\" y=\"-379.8\">flatten_1: Flatten</text>\n",
       "</g>\n",
       "<!-- 139663223922080&#45;&gt;139663223922640 -->\n",
       "<g class=\"edge\" id=\"edge16\"><title>139663223922080-&gt;139663223922640</title>\n",
       "<path d=\"M112.552,-438.313C115.438,-430.115 118.957,-420.123 122.174,-410.985\" fill=\"none\" stroke=\"black\"/>\n",
       "<polygon fill=\"black\" points=\"125.484,-412.124 125.504,-401.529 118.881,-409.799 125.484,-412.124\" stroke=\"black\"/>\n",
       "</g>\n",
       "<!-- 139663224064936 -->\n",
       "<g class=\"node\" id=\"node19\"><title>139663224064936</title>\n",
       "<polygon fill=\"none\" points=\"100.5,-292.5 100.5,-328.5 268.5,-328.5 268.5,-292.5 100.5,-292.5\" stroke=\"black\"/>\n",
       "<text font-family=\"Times,serif\" font-size=\"14.00\" text-anchor=\"middle\" x=\"184.5\" y=\"-306.8\">concatenate_1: Concatenate</text>\n",
       "</g>\n",
       "<!-- 139663223922640&#45;&gt;139663224064936 -->\n",
       "<g class=\"edge\" id=\"edge18\"><title>139663223922640-&gt;139663224064936</title>\n",
       "<path d=\"M144.33,-365.313C150.71,-356.766 158.545,-346.269 165.597,-336.823\" fill=\"none\" stroke=\"black\"/>\n",
       "<polygon fill=\"black\" points=\"168.611,-338.636 171.788,-328.529 163.002,-334.449 168.611,-338.636\" stroke=\"black\"/>\n",
       "</g>\n",
       "<!-- 139662620990152&#45;&gt;139663224064936 -->\n",
       "<g class=\"edge\" id=\"edge19\"><title>139662620990152-&gt;139663224064936</title>\n",
       "<path d=\"M239.302,-1387.21C239.011,-1360.18 238.5,-1306.25 238.5,-1260.5 238.5,-1260.5 238.5,-1260.5 238.5,-455.5 238.5,-412.081 216.711,-365.718 200.814,-337.672\" fill=\"none\" stroke=\"black\"/>\n",
       "<polygon fill=\"black\" points=\"203.753,-335.764 195.689,-328.893 197.708,-339.294 203.753,-335.764\" stroke=\"black\"/>\n",
       "</g>\n",
       "<!-- 139663223627728 -->\n",
       "<g class=\"node\" id=\"node20\"><title>139663223627728</title>\n",
       "<polygon fill=\"none\" points=\"133.5,-219.5 133.5,-255.5 235.5,-255.5 235.5,-219.5 133.5,-219.5\" stroke=\"black\"/>\n",
       "<text font-family=\"Times,serif\" font-size=\"14.00\" text-anchor=\"middle\" x=\"184.5\" y=\"-233.8\">dense_1: Dense</text>\n",
       "</g>\n",
       "<!-- 139663224064936&#45;&gt;139663223627728 -->\n",
       "<g class=\"edge\" id=\"edge20\"><title>139663224064936-&gt;139663223627728</title>\n",
       "<path d=\"M184.5,-292.313C184.5,-284.289 184.5,-274.547 184.5,-265.569\" fill=\"none\" stroke=\"black\"/>\n",
       "<polygon fill=\"black\" points=\"188,-265.529 184.5,-255.529 181,-265.529 188,-265.529\" stroke=\"black\"/>\n",
       "</g>\n",
       "<!-- 139663223625096 -->\n",
       "<g class=\"node\" id=\"node21\"><title>139663223625096</title>\n",
       "<polygon fill=\"none\" points=\"133.5,-146.5 133.5,-182.5 235.5,-182.5 235.5,-146.5 133.5,-146.5\" stroke=\"black\"/>\n",
       "<text font-family=\"Times,serif\" font-size=\"14.00\" text-anchor=\"middle\" x=\"184.5\" y=\"-160.8\">dense_2: Dense</text>\n",
       "</g>\n",
       "<!-- 139663223627728&#45;&gt;139663223625096 -->\n",
       "<g class=\"edge\" id=\"edge21\"><title>139663223627728-&gt;139663223625096</title>\n",
       "<path d=\"M184.5,-219.313C184.5,-211.289 184.5,-201.547 184.5,-192.569\" fill=\"none\" stroke=\"black\"/>\n",
       "<polygon fill=\"black\" points=\"188,-192.529 184.5,-182.529 181,-192.529 188,-192.529\" stroke=\"black\"/>\n",
       "</g>\n",
       "<!-- 139663223676600 -->\n",
       "<g class=\"node\" id=\"node22\"><title>139663223676600</title>\n",
       "<polygon fill=\"none\" points=\"122,-73.5 122,-109.5 247,-109.5 247,-73.5 122,-73.5\" stroke=\"black\"/>\n",
       "<text font-family=\"Times,serif\" font-size=\"14.00\" text-anchor=\"middle\" x=\"184.5\" y=\"-87.8\">dropout_1: Dropout</text>\n",
       "</g>\n",
       "<!-- 139663223625096&#45;&gt;139663223676600 -->\n",
       "<g class=\"edge\" id=\"edge22\"><title>139663223625096-&gt;139663223676600</title>\n",
       "<path d=\"M184.5,-146.313C184.5,-138.289 184.5,-128.547 184.5,-119.569\" fill=\"none\" stroke=\"black\"/>\n",
       "<polygon fill=\"black\" points=\"188,-119.529 184.5,-109.529 181,-119.529 188,-119.529\" stroke=\"black\"/>\n",
       "</g>\n",
       "<!-- 139663223786688 -->\n",
       "<g class=\"node\" id=\"node23\"><title>139663223786688</title>\n",
       "<polygon fill=\"none\" points=\"149,-0.5 149,-36.5 220,-36.5 220,-0.5 149,-0.5\" stroke=\"black\"/>\n",
       "<text font-family=\"Times,serif\" font-size=\"14.00\" text-anchor=\"middle\" x=\"184.5\" y=\"-14.8\">x1: Dense</text>\n",
       "</g>\n",
       "<!-- 139663223676600&#45;&gt;139663223786688 -->\n",
       "<g class=\"edge\" id=\"edge23\"><title>139663223676600-&gt;139663223786688</title>\n",
       "<path d=\"M184.5,-73.3129C184.5,-65.2895 184.5,-55.5475 184.5,-46.5691\" fill=\"none\" stroke=\"black\"/>\n",
       "<polygon fill=\"black\" points=\"188,-46.5288 184.5,-36.5288 181,-46.5289 188,-46.5288\" stroke=\"black\"/>\n",
       "</g>\n",
       "</g>\n",
       "</svg>"
      ],
      "text/plain": [
       "<IPython.core.display.SVG object>"
      ]
     },
     "metadata": {},
     "output_type": "display_data"
    }
   ],
   "source": [
    "a = Input(shape=x_train.shape[1:])\n",
    "\n",
    "# Number tower\n",
    "numtower = numtowerfre(a)\n",
    "numtower.trainble=False\n",
    "\n",
    "x = Conv2D(32, (2, 2), padding='same')(a)\n",
    "x = Activation('relu')(x)\n",
    "x = Conv2D(32, (2, 2))(x)\n",
    "x = Activation('relu')(x)\n",
    "x = MaxPooling2D(pool_size=(2, 2))(x)\n",
    "\n",
    "x = Conv2D(64, (2, 2), padding='same')(x)\n",
    "x = Activation('relu')(x)\n",
    "x = Conv2D(64, (2, 2))(x)\n",
    "x = Activation('relu')(x)\n",
    "x = MaxPooling2D(pool_size=(2, 2))(x)\n",
    "\n",
    "x = Conv2D(64, (4, 4), padding='same')(x)\n",
    "x = Activation('relu')(x)\n",
    "x = Conv2D(64, (4, 4))(x)\n",
    "x = Activation('relu')(x)\n",
    "x = MaxPooling2D(pool_size=(2, 2))(x)\n",
    "\n",
    "conv_out = Flatten()(x)\n",
    "\n",
    "\n",
    "x1 = keras.layers.concatenate([conv_out, numtower])\n",
    "\n",
    "x1 = Dense(128, activation='relu')(x1)\n",
    "\n",
    "x1 = Dense(128, activation='relu')(x1)\n",
    "\n",
    "x1 = Dropout(0.5)(x1)\n",
    "\n",
    "\n",
    "x1 = Dense(num_classes, activation='softmax', name='x1')(x1)\n",
    "\n",
    "\n",
    "model = Model(inputs=a, outputs=x1)\n",
    "\n",
    "display(SVG(model_to_dot(model).create(prog='dot', format='svg')))\n",
    "# load weights\n",
    "# model.load_weights(\"weights.forksvhmbest.hdf5\")\n",
    "\n",
    "model.compile(loss=keras.losses.categorical_crossentropy,\n",
    "              optimizer=keras.optimizers.Adadelta(),\n",
    "              metrics=['accuracy'])"
   ]
  },
  {
   "cell_type": "code",
   "execution_count": 31,
   "metadata": {
    "collapsed": false
   },
   "outputs": [
    {
     "name": "stdout",
     "output_type": "stream",
     "text": [
      "Train on 6 samples, validate on 2 samples\n",
      "Epoch 1/10\n",
      "0s - loss: 16.1181 - acc: 0.0000e+00 - val_loss: 16.1181 - val_acc: 0.0000e+00\n",
      "Epoch 2/10\n",
      "0s - loss: 16.1181 - acc: 0.0000e+00 - val_loss: 16.1181 - val_acc: 0.0000e+00\n",
      "Epoch 3/10\n",
      "0s - loss: 16.1181 - acc: 0.0000e+00 - val_loss: 16.1181 - val_acc: 0.0000e+00\n",
      "Epoch 4/10\n",
      "0s - loss: 16.1181 - acc: 0.0000e+00 - val_loss: 16.1181 - val_acc: 0.0000e+00\n",
      "Epoch 5/10\n",
      "0s - loss: 16.1181 - acc: 0.0000e+00 - val_loss: 16.1181 - val_acc: 0.0000e+00\n",
      "Epoch 6/10\n",
      "0s - loss: 16.1181 - acc: 0.0000e+00 - val_loss: 16.1181 - val_acc: 0.0000e+00\n",
      "Epoch 7/10\n",
      "0s - loss: 16.1181 - acc: 0.0000e+00 - val_loss: 16.1181 - val_acc: 0.0000e+00\n",
      "Epoch 8/10\n",
      "0s - loss: 16.1181 - acc: 0.0000e+00 - val_loss: 16.1181 - val_acc: 0.0000e+00\n",
      "Epoch 9/10\n",
      "0s - loss: 16.1181 - acc: 0.0000e+00 - val_loss: 16.1181 - val_acc: 0.0000e+00\n",
      "Epoch 10/10\n",
      "0s - loss: 16.1181 - acc: 0.0000e+00 - val_loss: 16.1181 - val_acc: 0.0000e+00\n"
     ]
    },
    {
     "data": {
      "text/plain": [
       "<keras.callbacks.History at 0x7f0561d64a58>"
      ]
     },
     "execution_count": 31,
     "metadata": {},
     "output_type": "execute_result"
    }
   ],
   "source": [
    "model.fit(x_train,y1,\n",
    "        batch_size=batch_size,\n",
    "        epochs=epochs,\n",
    "        validation_split=0.2,\n",
    "        shuffle=True,\n",
    "        verbose=2)"
   ]
  },
  {
   "cell_type": "code",
   "execution_count": 21,
   "metadata": {
    "collapsed": false
   },
   "outputs": [
    {
     "name": "stdout",
     "output_type": "stream",
     "text": [
      "Test loss: 0.00241264658514\n",
      "Test accuracy: 0.999850321808\n"
     ]
    }
   ],
   "source": [
    "score = model.evaluate(x_test, y1_t, verbose=0)\n",
    "\n",
    "print('Test loss:', score[0])\n",
    "print('Test accuracy:', score[1])\n",
    "model.save('digit5.h5')"
   ]
  },
  {
   "cell_type": "code",
   "execution_count": null,
   "metadata": {
    "collapsed": true
   },
   "outputs": [],
   "source": []
  }
 ],
 "metadata": {
  "kernelspec": {
   "display_name": "Python 3",
   "language": "python",
   "name": "python3"
  },
  "language_info": {
   "codemirror_mode": {
    "name": "ipython",
    "version": 3
   },
   "file_extension": ".py",
   "mimetype": "text/x-python",
   "name": "python",
   "nbconvert_exporter": "python",
   "pygments_lexer": "ipython3",
   "version": "3.5.2"
  }
 },
 "nbformat": 4,
 "nbformat_minor": 2
}
