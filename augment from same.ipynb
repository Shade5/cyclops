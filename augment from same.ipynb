{
 "cells": [
  {
   "cell_type": "code",
   "execution_count": 1,
   "metadata": {
    "collapsed": true
   },
   "outputs": [],
   "source": [
    "from random import randint\n",
    "import pandas as pd\n",
    "import numpy as np\n",
    "import numpy as np\n",
    "import glob\n",
    "import os\n",
    "import skimage.io\n",
    "import skimage.transform\n",
    "import matplotlib.pyplot as plt\n",
    "%matplotlib inline"
   ]
  },
  {
   "cell_type": "code",
   "execution_count": 5,
   "metadata": {
    "collapsed": true
   },
   "outputs": [],
   "source": [
    "def load_image_from_png():\n",
    "    output={}\n",
    "    cwd = os.getcwd()\n",
    "    pattern=\"%s/data/train_images/*.png\"\n",
    "    paths=glob.glob(pattern % cwd)\n",
    "    paths.sort()\n",
    "    for path in paths:\n",
    "        name=int(os.path.basename(path).split(\".\")[0])\n",
    "        img = skimage.io.imread(path)\n",
    "        output[name]=img\n",
    "    return output"
   ]
  },
  {
   "cell_type": "code",
   "execution_count": 33,
   "metadata": {
    "collapsed": false
   },
   "outputs": [],
   "source": [
    "def aug(images):\n",
    "    #loading required data\n",
    "    print(\"loading nummertrain\")\n",
    "    nummertrain=np.load(\"nummertrain.npy\")\n",
    "    print(\"loading train csv\")\n",
    "    y=pd.read_csv('data/train.csv')\n",
    "    #print(\"loading images\")\n",
    "    #images=load_image_from_png()\n",
    "\n",
    "    new_nummertrain=[]\n",
    "    new_imgs=[]\n",
    "    next_image=0\n",
    "    current_image=0\n",
    "    print(\"Starting the main part\")\n",
    "    while(next_image < y.shape[0]):\n",
    "        img_name=int(y.loc[next_image,'FileName'].split(\".\")[0])\n",
    "        top=[]\n",
    "        bottom=[]\n",
    "        right=[]\n",
    "        left=[]\n",
    "        count=0\n",
    "        while (img_name == int(y.loc[current_image,'FileName'].split(\".\")[0])):\n",
    "                top.append(y.loc[current_image,'Top'])\n",
    "                bottom.append(y.loc[current_image,'Top'] + y.loc[current_image,'Height'])\n",
    "                left.append(y.loc[current_image,'Left'])\n",
    "                right.append(y.loc[current_image,'Left'] + y.loc[current_image,'Width'])\n",
    "                current_image=current_image+1\n",
    "                if(current_image>=y.shape[0]):\n",
    "                    break\n",
    "                count=count+1\n",
    "        #change the if condition to specify if value of k, take in images with len k and output k+1 \n",
    "        if(count == 4):\n",
    "        \n",
    "            #selecting a digit from the given sequence randomly\n",
    "            index=randint(0,count-1)\n",
    "\n",
    "            #coordinates for bounding boxes of the entire picture\n",
    "            minTop=min(top)\n",
    "            if(minTop < 0):\n",
    "                minTop=0\n",
    "            maxBot=max(bottom)\n",
    "            if(maxBot<0):\n",
    "                maxBot=0\n",
    "            minLeft=min(left)\n",
    "            if(minLeft<0):\n",
    "                minLeft=0\n",
    "            maxRight=max(right)\n",
    "            if(maxRight<0):\n",
    "                maxRight=0\n",
    "\n",
    "\n",
    "            #coordinates for the bounding boxes of the isolated digit\n",
    "\n",
    "            isoTop=top[index]\n",
    "            if (isoTop < 0):\n",
    "                isoTop=0\n",
    "            isoBot=bottom[index]\n",
    "            if(isoBot < 0):\n",
    "                isoBot=0\n",
    "            isoLeft=left[index]\n",
    "            if(isoLeft < 0):\n",
    "                isoLeft=0\n",
    "            isoRight=right[index]\n",
    "            if(isoRight < 0):\n",
    "                isoRight=0\n",
    "\n",
    "            #crop out the image \n",
    "            cropImg=images[img_name]\n",
    "            cropImg=cropImg[minTop:maxBot,minLeft:maxRight]\n",
    "    \n",
    "\n",
    "            #crop out the isolated digit\n",
    "            isoImg=images[img_name]\n",
    "            isoImg=isoImg[minTop:maxBot,isoLeft:isoRight]\n",
    "\n",
    "            # randomly deciding whether to append in front or back\n",
    "            pos=randint(1,2)\n",
    "            if(pos==1):\n",
    "                finImg=np.hstack((isoImg,cropImg))\n",
    "                new_imgs.append(finImg)\n",
    "                temp=np.zeros(nummertrain[img_name-1].shape)\n",
    "                temp[0]=nummertrain[img_name-1][index]\n",
    "                for i in range(1,temp.shape[0]-1):\n",
    "                    temp[i]=nummertrain[img_name-1][i-1]\n",
    "                temp[temp.shape[0]-1]=nummertrain[img_name-1][nummertrain[img_name-1].shape[0] -1] + 1\n",
    "                new_nummertrain.append(temp)\n",
    "            else:\n",
    "                finImg=np.hstack((cropImg,isoImg))\n",
    "                new_imgs.append(finImg)\n",
    "                temp=np.zeros(nummertrain[img_name-1].shape)\n",
    "                for i in range(0,temp.shape[0]-1):\n",
    "                    temp[i]=nummertrain[img_name-1][i]\n",
    "                temp[count]=nummertrain[img_name-1][index]\n",
    "                temp[temp.shape[0] -1]=nummertrain[img_name-1][nummertrain[img_name-1].shape[0]-1] + 1\n",
    "                new_nummertrain.append(temp)\n",
    "\n",
    "        next_image=current_image\n",
    "\n",
    "        #plt.plot(isoLeft,isoTop,'yo')\n",
    "        #plt.plot(isoLeft,isoBot,'yo')\n",
    "        #plt.plot(isoRight,isoTop,'yo')\n",
    "        #plt.plot(isoRight,isoBot,'yo')\n",
    "\n",
    "\n",
    "        #plt.plot(minLeft,minTop,'ro')\n",
    "        #plt.plot(minLeft,maxBot,'ro')\n",
    "        #plt.plot(maxRight,minTop,'ro')\n",
    "        #plt.plot(maxRight,maxBot,'ro')\n",
    "\n",
    "        #plt.figure()\n",
    "        #plt.imshow(finImg)\n",
    "\n",
    "    new_nummertrain=np.array(new_nummertrain)\n",
    "    new_imgs=np.array(new_imgs)\n",
    "        #print(\"nummertrain entry : \",nummertrain[img_name-1])\n",
    "        #print(\"new_nummertrain entry : \", temp)\n",
    "        #print(\"new_nummertrain shape : \",new_nummertrain.shape)\n",
    "    return new_nummertrain, new_imgs"
   ]
  },
  {
   "cell_type": "code",
   "execution_count": 6,
   "metadata": {
    "collapsed": false
   },
   "outputs": [],
   "source": [
    "images=load_image_from_png()"
   ]
  },
  {
   "cell_type": "code",
   "execution_count": 34,
   "metadata": {
    "collapsed": false
   },
   "outputs": [
    {
     "name": "stdout",
     "output_type": "stream",
     "text": [
      "loading nummertrain\n",
      "loading train csv\n",
      "Starting the main part\n"
     ]
    }
   ],
   "source": [
    "new_nummertrain,new_imgs=aug(images)"
   ]
  },
  {
   "cell_type": "code",
   "execution_count": 35,
   "metadata": {
    "collapsed": false
   },
   "outputs": [
    {
     "name": "stdout",
     "output_type": "stream",
     "text": [
      "(1434, 6)\n",
      "(1434,)\n"
     ]
    }
   ],
   "source": [
    "print(new_nummertrain.shape)\n",
    "print(new_imgs.shape)"
   ]
  },
  {
   "cell_type": "code",
   "execution_count": 40,
   "metadata": {
    "collapsed": false
   },
   "outputs": [
    {
     "name": "stdout",
     "output_type": "stream",
     "text": [
      "[ 1.  4.  5.  1.  5.  5.]\n"
     ]
    },
    {
     "data": {
      "image/png": "[encoded data removed]",
      "text/plain": [
       "<matplotlib.figure.Figure at 0x7f4ec6426d68>"
      ]
     },
     "metadata": {},
     "output_type": "display_data"
    }
   ],
   "source": [
    "index=randint(0,127)\n",
    "plt.imshow(new_imgs[index])\n",
    "print(new_nummertrain[index])"
   ]
  },
  {
   "cell_type": "code",
   "execution_count": 41,
   "metadata": {
    "collapsed": false
   },
   "outputs": [],
   "source": [
    "np.save('aug/aug4t5ima',new_imgs)\n",
    "np.save('aug/aug4t4nummer',new_nummertrain)"
   ]
  },
  {
   "cell_type": "code",
   "execution_count": 29,
   "metadata": {
    "collapsed": false
   },
   "outputs": [
    {
     "name": "stdout",
     "output_type": "stream",
     "text": [
      "(6,)\n"
     ]
    }
   ],
   "source": [
    "print(nummertrain[0].shape)"
   ]
  },
  {
   "cell_type": "code",
   "execution_count": null,
   "metadata": {
    "collapsed": true
   },
   "outputs": [],
   "source": []
  }
 ],
 "metadata": {
  "anaconda-cloud": {},
  "kernelspec": {
   "display_name": "Python 3",
   "language": "python",
   "name": "python3"
  },
  "language_info": {
   "codemirror_mode": {
    "name": "ipython",
    "version": 3
   },
   "file_extension": ".py",
   "mimetype": "text/x-python",
   "name": "python",
   "nbconvert_exporter": "python",
   "pygments_lexer": "ipython3",
   "version": "3.5.2"
  }
 },
 "nbformat": 4,
 "nbformat_minor": 1
}
