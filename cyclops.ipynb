{
 "cells": [
  {
   "cell_type": "code",
   "execution_count": 12,
   "metadata": {
    "collapsed": false
   },
   "outputs": [],
   "source": [
    "import numpy as np\n",
    "from matplotlib import pyplot as plt\n",
    "from sklearn.model_selection import train_test_split\n",
    "from sklearn.preprocessing import LabelBinarizer\n",
    "\n",
    "import keras\n",
    "from keras.preprocessing.image import ImageDataGenerator\n",
    "from keras.models import Sequential, Model\n",
    "from keras.layers import Dense, Dropout, Activation, Flatten, Input\n",
    "from keras.layers import Conv2D, MaxPooling2D\n",
    "from keras.callbacks import ModelCheckpoint\n",
    "from keras.constraints import maxnorm\n",
    "from keras.optimizers import SGD\n",
    "from keras.models import load_model\n",
    "\n",
    "from IPython.display import SVG,display\n",
    "from keras.utils.vis_utils import model_to_dot\n",
    "\n",
    "batch_size = 32\n",
    "num_classes = 11\n",
    "epochs = 3"
   ]
  },
  {
   "cell_type": "code",
   "execution_count": 2,
   "metadata": {
    "collapsed": true
   },
   "outputs": [],
   "source": [
    "def hot(y):\n",
    "    label_binarizer = LabelBinarizer()\n",
    "    label_binarizer.fit(range(11))\n",
    "    new_y = np.zeros((y.shape[0],y.shape[1]*num_classes))\n",
    "    for i in range(len(y)):\n",
    "        new_y[i,:] = label_binarizer.transform(y[i]).flatten()\n",
    "    return new_y"
   ]
  },
  {
   "cell_type": "code",
   "execution_count": 3,
   "metadata": {
    "collapsed": true
   },
   "outputs": [],
   "source": [
    "X = np.load(\"resizecrop.npy\")\n",
    "y = np.load(\"nummertrain.npy\").astype(int)"
   ]
  },
  {
   "cell_type": "code",
   "execution_count": 4,
   "metadata": {
    "collapsed": true
   },
   "outputs": [],
   "source": [
    "y = hot(y)\n",
    "x_train, x_test, y_train, y_test = train_test_split(\n",
    "    X, y, test_size=0.2)"
   ]
  },
  {
   "cell_type": "code",
   "execution_count": 14,
   "metadata": {
    "collapsed": false
   },
   "outputs": [
    {
     "name": "stdout",
     "output_type": "stream",
     "text": [
      "x_train shape: (26721, 25, 23, 3)\n",
      "y_train shape: (26721, 11)\n",
      "26721 train samples\n"
     ]
    }
   ],
   "source": [
    "y1,y2,y3,y4,y5,ynum = y_train[:,0:11],y_train[:,11:22],y_train[:,22:33],y_train[:,33:44],y_train[:,44:55],y_train[:,55:66]\n",
    "y1_t,y2_t,y3_t,y4_t,y5_t,ynum_t = y_test[:,0:11],y_test[:,11:22],y_test[:,22:33],y_test[:,33:44],y_test[:,44:55],y_test[:,55:66]\n",
    "print('x_train shape:', x_train.shape)\n",
    "print('y_train shape:', ynum.shape)\n",
    "print(x_train.shape[0], 'train samples')"
   ]
  },
  {
   "cell_type": "code",
   "execution_count": 6,
   "metadata": {
    "collapsed": false
   },
   "outputs": [],
   "source": [
    "digit1 = load_model('digit1.h5')\n",
    "digit1.name =\"digit1\"\n",
    "\n",
    "digit2 = load_model('digit2.h5')\n",
    "digit2.name =\"digit2\"\n",
    "\n",
    "digit3 = load_model('digit3.h5')\n",
    "digit3.name =\"digit3\"\n",
    "\n",
    "digit4 = load_model('digit4.h5')\n",
    "digit4.name =\"digit4\"\n",
    "\n",
    "digit5 = load_model('digit5.h5')\n",
    "digit5.name =\"digit5\""
   ]
  },
  {
   "cell_type": "code",
   "execution_count": 11,
   "metadata": {
    "collapsed": false
   },
   "outputs": [
    {
     "data": {
      "image/svg+xml": [
       "<svg height=\"118pt\" viewBox=\"0.00 0.00 540.00 118.00\" width=\"540pt\" xmlns=\"http://www.w3.org/2000/svg\" xmlns:xlink=\"http://www.w3.org/1999/xlink\">\n",
       "<g class=\"graph\" id=\"graph0\" transform=\"scale(1 1) rotate(0) translate(4 114)\">\n",
       "<title>G</title>\n",
       "<polygon fill=\"white\" points=\"-4,4 -4,-114 536,-114 536,4 -4,4\" stroke=\"none\"/>\n",
       "<!-- 139664684611456 -->\n",
       "<g class=\"node\" id=\"node1\"><title>139664684611456</title>\n",
       "<polygon fill=\"none\" points=\"203.5,-73.5 203.5,-109.5 328.5,-109.5 328.5,-73.5 203.5,-73.5\" stroke=\"black\"/>\n",
       "<text font-family=\"Times,serif\" font-size=\"14.00\" text-anchor=\"middle\" x=\"266\" y=\"-87.8\">input_5: InputLayer</text>\n",
       "</g>\n",
       "<!-- 139667975489632 -->\n",
       "<g class=\"node\" id=\"node2\"><title>139667975489632</title>\n",
       "<polygon fill=\"none\" points=\"0,-0.5 0,-36.5 92,-36.5 92,-0.5 0,-0.5\" stroke=\"black\"/>\n",
       "<text font-family=\"Times,serif\" font-size=\"14.00\" text-anchor=\"middle\" x=\"46\" y=\"-14.8\">digit1: Model</text>\n",
       "</g>\n",
       "<!-- 139664684611456&#45;&gt;139667975489632 -->\n",
       "<g class=\"edge\" id=\"edge1\"><title>139664684611456-&gt;139667975489632</title>\n",
       "<path d=\"M213.305,-73.4937C179.752,-62.6654 136.331,-48.6522 102.133,-37.6155\" fill=\"none\" stroke=\"black\"/>\n",
       "<polygon fill=\"black\" points=\"102.885,-34.1806 92.2931,-34.4401 100.735,-40.8423 102.885,-34.1806\" stroke=\"black\"/>\n",
       "</g>\n",
       "<!-- 139667975488568 -->\n",
       "<g class=\"node\" id=\"node3\"><title>139667975488568</title>\n",
       "<polygon fill=\"none\" points=\"110,-0.5 110,-36.5 202,-36.5 202,-0.5 110,-0.5\" stroke=\"black\"/>\n",
       "<text font-family=\"Times,serif\" font-size=\"14.00\" text-anchor=\"middle\" x=\"156\" y=\"-14.8\">digit2: Model</text>\n",
       "</g>\n",
       "<!-- 139664684611456&#45;&gt;139667975488568 -->\n",
       "<g class=\"edge\" id=\"edge2\"><title>139664684611456-&gt;139667975488568</title>\n",
       "<path d=\"M239.652,-73.4937C225.065,-64.0785 206.748,-52.2554 190.975,-42.0748\" fill=\"none\" stroke=\"black\"/>\n",
       "<polygon fill=\"black\" points=\"192.814,-39.096 182.514,-36.6136 189.018,-44.9773 192.814,-39.096\" stroke=\"black\"/>\n",
       "</g>\n",
       "<!-- 139666367639336 -->\n",
       "<g class=\"node\" id=\"node4\"><title>139666367639336</title>\n",
       "<polygon fill=\"none\" points=\"220,-0.5 220,-36.5 312,-36.5 312,-0.5 220,-0.5\" stroke=\"black\"/>\n",
       "<text font-family=\"Times,serif\" font-size=\"14.00\" text-anchor=\"middle\" x=\"266\" y=\"-14.8\">digit3: Model</text>\n",
       "</g>\n",
       "<!-- 139664684611456&#45;&gt;139666367639336 -->\n",
       "<g class=\"edge\" id=\"edge3\"><title>139664684611456-&gt;139666367639336</title>\n",
       "<path d=\"M266,-73.3129C266,-65.2895 266,-55.5475 266,-46.5691\" fill=\"none\" stroke=\"black\"/>\n",
       "<polygon fill=\"black\" points=\"269.5,-46.5288 266,-36.5288 262.5,-46.5289 269.5,-46.5288\" stroke=\"black\"/>\n",
       "</g>\n",
       "<!-- 139664785874448 -->\n",
       "<g class=\"node\" id=\"node5\"><title>139664785874448</title>\n",
       "<polygon fill=\"none\" points=\"330,-0.5 330,-36.5 422,-36.5 422,-0.5 330,-0.5\" stroke=\"black\"/>\n",
       "<text font-family=\"Times,serif\" font-size=\"14.00\" text-anchor=\"middle\" x=\"376\" y=\"-14.8\">digit4: Model</text>\n",
       "</g>\n",
       "<!-- 139664684611456&#45;&gt;139664785874448 -->\n",
       "<g class=\"edge\" id=\"edge4\"><title>139664684611456-&gt;139664785874448</title>\n",
       "<path d=\"M292.348,-73.4937C306.935,-64.0785 325.252,-52.2554 341.025,-42.0748\" fill=\"none\" stroke=\"black\"/>\n",
       "<polygon fill=\"black\" points=\"342.982,-44.9773 349.486,-36.6136 339.186,-39.096 342.982,-44.9773\" stroke=\"black\"/>\n",
       "</g>\n",
       "<!-- 139664778910016 -->\n",
       "<g class=\"node\" id=\"node6\"><title>139664778910016</title>\n",
       "<polygon fill=\"none\" points=\"440,-0.5 440,-36.5 532,-36.5 532,-0.5 440,-0.5\" stroke=\"black\"/>\n",
       "<text font-family=\"Times,serif\" font-size=\"14.00\" text-anchor=\"middle\" x=\"486\" y=\"-14.8\">digit5: Model</text>\n",
       "</g>\n",
       "<!-- 139664684611456&#45;&gt;139664778910016 -->\n",
       "<g class=\"edge\" id=\"edge5\"><title>139664684611456-&gt;139664778910016</title>\n",
       "<path d=\"M318.695,-73.4937C352.248,-62.6654 395.669,-48.6522 429.867,-37.6155\" fill=\"none\" stroke=\"black\"/>\n",
       "<polygon fill=\"black\" points=\"431.265,-40.8423 439.707,-34.4401 429.115,-34.1806 431.265,-40.8423\" stroke=\"black\"/>\n",
       "</g>\n",
       "</g>\n",
       "</svg>"
      ],
      "text/plain": [
       "<IPython.core.display.SVG object>"
      ]
     },
     "metadata": {},
     "output_type": "display_data"
    }
   ],
   "source": [
    "a = Input(shape=x_train.shape[1:])\n",
    "\n",
    "# Number tower\n",
    "d1 = digit1(a)\n",
    "\n",
    "d2 = digit2(a)\n",
    "\n",
    "d3 = digit3(a)\n",
    "\n",
    "d4 = digit4(a)\n",
    "\n",
    "d5 = digit5(a)\n",
    "\n",
    "model = Model(inputs=a, outputs=[d1, d2, d3, d4, d5])\n",
    "\n",
    "display(SVG(model_to_dot(model).create(prog='dot', format='svg')))\n",
    "\n",
    "model.compile(loss=keras.losses.categorical_crossentropy,\n",
    "              optimizer=keras.optimizers.Adadelta(),\n",
    "              metrics=['accuracy'])"
   ]
  },
  {
   "cell_type": "code",
   "execution_count": null,
   "metadata": {
    "collapsed": false
   },
   "outputs": [
    {
     "name": "stdout",
     "output_type": "stream",
     "text": [
      "Train on 21376 samples, validate on 5345 samples\n",
      "Epoch 1/3\n"
     ]
    }
   ],
   "source": [
    "model.fit(x_train,[y1,y2,y3,y4,y5],\n",
    "        batch_size=batch_size,\n",
    "        epochs=epochs,\n",
    "        validation_split=0.2,\n",
    "        shuffle=True,\n",
    "        verbose=2)"
   ]
  },
  {
   "cell_type": "code",
   "execution_count": null,
   "metadata": {
    "collapsed": true
   },
   "outputs": [],
   "source": []
  }
 ],
 "metadata": {
  "kernelspec": {
   "display_name": "Python 3",
   "language": "python",
   "name": "python3"
  },
  "language_info": {
   "codemirror_mode": {
    "name": "ipython",
    "version": 3
   },
   "file_extension": ".py",
   "mimetype": "text/x-python",
   "name": "python",
   "nbconvert_exporter": "python",
   "pygments_lexer": "ipython3",
   "version": "3.5.2"
  }
 },
 "nbformat": 4,
 "nbformat_minor": 2
}
