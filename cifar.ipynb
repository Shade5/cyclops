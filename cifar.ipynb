{
 "cells": [
  {
   "cell_type": "code",
   "execution_count": 1,
   "metadata": {
    "collapsed": false
   },
   "outputs": [
    {
     "name": "stderr",
     "output_type": "stream",
     "text": [
      "Using TensorFlow backend.\n"
     ]
    }
   ],
   "source": [
    "'''Train a simple deep CNN on the CIFAR10 small images dataset.\n",
    "GPU run command with Theano backend (with TensorFlow, the GPU is automatically used):\n",
    "    THEANO_FLAGS=mode=FAST_RUN,device=gpu,floatx=float32 python cifar10_cnn.py\n",
    "It gets down to 0.65 test logloss in 25 epochs, and down to 0.55 after 50 epochs.\n",
    "(it's still underfitting at that point, though).\n",
    "'''\n",
    "\n",
    "from __future__ import print_function\n",
    "import keras\n",
    "from keras.datasets import cifar10\n",
    "from keras.preprocessing.image import ImageDataGenerator\n",
    "from keras.models import Sequential\n",
    "from keras.layers import Dense, Dropout, Activation, Flatten\n",
    "from keras.layers import Conv2D, MaxPooling2D\n",
    "from keras.callbacks import ModelCheckpoint\n",
    "\n",
    "from IPython.display import SVG,display\n",
    "from keras.utils.vis_utils import model_to_dot\n",
    "\n",
    "\n",
    "batch_size = 32\n",
    "num_classes = 10\n",
    "epochs = 200\n",
    "data_augmentation = False"
   ]
  },
  {
   "cell_type": "code",
   "execution_count": 2,
   "metadata": {
    "collapsed": false
   },
   "outputs": [
    {
     "name": "stdout",
     "output_type": "stream",
     "text": [
      "x_train shape: (50000, 32, 32, 3)\n",
      "50000 train samples\n",
      "10000 test samples\n"
     ]
    }
   ],
   "source": [
    "# The data, shuffled and split between train and test sets:\n",
    "(x_train, y_train), (x_test, y_test) = cifar10.load_data()\n",
    "print('x_train shape:', x_train.shape)\n",
    "print(x_train.shape[0], 'train samples')\n",
    "print(x_test.shape[0], 'test samples')\n",
    "\n",
    "# Convert class vectors to binary class matrices.\n",
    "y_train = keras.utils.to_categorical(y_train, num_classes)\n",
    "y_test = keras.utils.to_categorical(y_test, num_classes)"
   ]
  },
  {
   "cell_type": "code",
   "execution_count": 6,
   "metadata": {
    "collapsed": false
   },
   "outputs": [
    {
     "data": {
      "image/svg+xml": [
       "<svg height=\"1359pt\" viewBox=\"0.00 0.00 215.00 1359.00\" width=\"215pt\" xmlns=\"http://www.w3.org/2000/svg\" xmlns:xlink=\"http://www.w3.org/1999/xlink\">\n",
       "<g class=\"graph\" id=\"graph0\" transform=\"scale(1 1) rotate(0) translate(4 1355)\">\n",
       "<title>G</title>\n",
       "<polygon fill=\"white\" points=\"-4,4 -4,-1355 211,-1355 211,4 -4,4\" stroke=\"none\"/>\n",
       "<!-- 140630798658528 -->\n",
       "<g class=\"node\" id=\"node1\"><title>140630798658528</title>\n",
       "<polygon fill=\"none\" points=\"17.5,-1314.5 17.5,-1350.5 189.5,-1350.5 189.5,-1314.5 17.5,-1314.5\" stroke=\"black\"/>\n",
       "<text font-family=\"Times,serif\" font-size=\"14.00\" text-anchor=\"middle\" x=\"103.5\" y=\"-1328.8\">conv2d_1_input: InputLayer</text>\n",
       "</g>\n",
       "<!-- 140630798658192 -->\n",
       "<g class=\"node\" id=\"node2\"><title>140630798658192</title>\n",
       "<polygon fill=\"none\" points=\"42,-1241.5 42,-1277.5 165,-1277.5 165,-1241.5 42,-1241.5\" stroke=\"black\"/>\n",
       "<text font-family=\"Times,serif\" font-size=\"14.00\" text-anchor=\"middle\" x=\"103.5\" y=\"-1255.8\">conv2d_1: Conv2D</text>\n",
       "</g>\n",
       "<!-- 140630798658528&#45;&gt;140630798658192 -->\n",
       "<g class=\"edge\" id=\"edge1\"><title>140630798658528-&gt;140630798658192</title>\n",
       "<path d=\"M103.5,-1314.31C103.5,-1306.29 103.5,-1296.55 103.5,-1287.57\" fill=\"none\" stroke=\"black\"/>\n",
       "<polygon fill=\"black\" points=\"107,-1287.53 103.5,-1277.53 100,-1287.53 107,-1287.53\" stroke=\"black\"/>\n",
       "</g>\n",
       "<!-- 140630798658472 -->\n",
       "<g class=\"node\" id=\"node3\"><title>140630798658472</title>\n",
       "<polygon fill=\"none\" points=\"29.5,-1168.5 29.5,-1204.5 177.5,-1204.5 177.5,-1168.5 29.5,-1168.5\" stroke=\"black\"/>\n",
       "<text font-family=\"Times,serif\" font-size=\"14.00\" text-anchor=\"middle\" x=\"103.5\" y=\"-1182.8\">activation_1: Activation</text>\n",
       "</g>\n",
       "<!-- 140630798658192&#45;&gt;140630798658472 -->\n",
       "<g class=\"edge\" id=\"edge2\"><title>140630798658192-&gt;140630798658472</title>\n",
       "<path d=\"M103.5,-1241.31C103.5,-1233.29 103.5,-1223.55 103.5,-1214.57\" fill=\"none\" stroke=\"black\"/>\n",
       "<polygon fill=\"black\" points=\"107,-1214.53 103.5,-1204.53 100,-1214.53 107,-1214.53\" stroke=\"black\"/>\n",
       "</g>\n",
       "<!-- 140630798659368 -->\n",
       "<g class=\"node\" id=\"node4\"><title>140630798659368</title>\n",
       "<polygon fill=\"none\" points=\"42,-1095.5 42,-1131.5 165,-1131.5 165,-1095.5 42,-1095.5\" stroke=\"black\"/>\n",
       "<text font-family=\"Times,serif\" font-size=\"14.00\" text-anchor=\"middle\" x=\"103.5\" y=\"-1109.8\">conv2d_2: Conv2D</text>\n",
       "</g>\n",
       "<!-- 140630798658472&#45;&gt;140630798659368 -->\n",
       "<g class=\"edge\" id=\"edge3\"><title>140630798658472-&gt;140630798659368</title>\n",
       "<path d=\"M103.5,-1168.31C103.5,-1160.29 103.5,-1150.55 103.5,-1141.57\" fill=\"none\" stroke=\"black\"/>\n",
       "<polygon fill=\"black\" points=\"107,-1141.53 103.5,-1131.53 100,-1141.53 107,-1141.53\" stroke=\"black\"/>\n",
       "</g>\n",
       "<!-- 140630798659424 -->\n",
       "<g class=\"node\" id=\"node5\"><title>140630798659424</title>\n",
       "<polygon fill=\"none\" points=\"29.5,-1022.5 29.5,-1058.5 177.5,-1058.5 177.5,-1022.5 29.5,-1022.5\" stroke=\"black\"/>\n",
       "<text font-family=\"Times,serif\" font-size=\"14.00\" text-anchor=\"middle\" x=\"103.5\" y=\"-1036.8\">activation_2: Activation</text>\n",
       "</g>\n",
       "<!-- 140630798659368&#45;&gt;140630798659424 -->\n",
       "<g class=\"edge\" id=\"edge4\"><title>140630798659368-&gt;140630798659424</title>\n",
       "<path d=\"M103.5,-1095.31C103.5,-1087.29 103.5,-1077.55 103.5,-1068.57\" fill=\"none\" stroke=\"black\"/>\n",
       "<polygon fill=\"black\" points=\"107,-1068.53 103.5,-1058.53 100,-1068.53 107,-1068.53\" stroke=\"black\"/>\n",
       "</g>\n",
       "<!-- 140630798700896 -->\n",
       "<g class=\"node\" id=\"node6\"><title>140630798700896</title>\n",
       "<polygon fill=\"none\" points=\"0,-949.5 0,-985.5 207,-985.5 207,-949.5 0,-949.5\" stroke=\"black\"/>\n",
       "<text font-family=\"Times,serif\" font-size=\"14.00\" text-anchor=\"middle\" x=\"103.5\" y=\"-963.8\">max_pooling2d_1: MaxPooling2D</text>\n",
       "</g>\n",
       "<!-- 140630798659424&#45;&gt;140630798700896 -->\n",
       "<g class=\"edge\" id=\"edge5\"><title>140630798659424-&gt;140630798700896</title>\n",
       "<path d=\"M103.5,-1022.31C103.5,-1014.29 103.5,-1004.55 103.5,-995.569\" fill=\"none\" stroke=\"black\"/>\n",
       "<polygon fill=\"black\" points=\"107,-995.529 103.5,-985.529 100,-995.529 107,-995.529\" stroke=\"black\"/>\n",
       "</g>\n",
       "<!-- 140630798702408 -->\n",
       "<g class=\"node\" id=\"node7\"><title>140630798702408</title>\n",
       "<polygon fill=\"none\" points=\"41,-876.5 41,-912.5 166,-912.5 166,-876.5 41,-876.5\" stroke=\"black\"/>\n",
       "<text font-family=\"Times,serif\" font-size=\"14.00\" text-anchor=\"middle\" x=\"103.5\" y=\"-890.8\">dropout_1: Dropout</text>\n",
       "</g>\n",
       "<!-- 140630798700896&#45;&gt;140630798702408 -->\n",
       "<g class=\"edge\" id=\"edge6\"><title>140630798700896-&gt;140630798702408</title>\n",
       "<path d=\"M103.5,-949.313C103.5,-941.289 103.5,-931.547 103.5,-922.569\" fill=\"none\" stroke=\"black\"/>\n",
       "<polygon fill=\"black\" points=\"107,-922.529 103.5,-912.529 100,-922.529 107,-922.529\" stroke=\"black\"/>\n",
       "</g>\n",
       "<!-- 140630798491208 -->\n",
       "<g class=\"node\" id=\"node8\"><title>140630798491208</title>\n",
       "<polygon fill=\"none\" points=\"42,-803.5 42,-839.5 165,-839.5 165,-803.5 42,-803.5\" stroke=\"black\"/>\n",
       "<text font-family=\"Times,serif\" font-size=\"14.00\" text-anchor=\"middle\" x=\"103.5\" y=\"-817.8\">conv2d_3: Conv2D</text>\n",
       "</g>\n",
       "<!-- 140630798702408&#45;&gt;140630798491208 -->\n",
       "<g class=\"edge\" id=\"edge7\"><title>140630798702408-&gt;140630798491208</title>\n",
       "<path d=\"M103.5,-876.313C103.5,-868.289 103.5,-858.547 103.5,-849.569\" fill=\"none\" stroke=\"black\"/>\n",
       "<polygon fill=\"black\" points=\"107,-849.529 103.5,-839.529 100,-849.529 107,-849.529\" stroke=\"black\"/>\n",
       "</g>\n",
       "<!-- 140630798408000 -->\n",
       "<g class=\"node\" id=\"node9\"><title>140630798408000</title>\n",
       "<polygon fill=\"none\" points=\"29.5,-730.5 29.5,-766.5 177.5,-766.5 177.5,-730.5 29.5,-730.5\" stroke=\"black\"/>\n",
       "<text font-family=\"Times,serif\" font-size=\"14.00\" text-anchor=\"middle\" x=\"103.5\" y=\"-744.8\">activation_3: Activation</text>\n",
       "</g>\n",
       "<!-- 140630798491208&#45;&gt;140630798408000 -->\n",
       "<g class=\"edge\" id=\"edge8\"><title>140630798491208-&gt;140630798408000</title>\n",
       "<path d=\"M103.5,-803.313C103.5,-795.289 103.5,-785.547 103.5,-776.569\" fill=\"none\" stroke=\"black\"/>\n",
       "<polygon fill=\"black\" points=\"107,-776.529 103.5,-766.529 100,-776.529 107,-776.529\" stroke=\"black\"/>\n",
       "</g>\n",
       "<!-- 140630798559664 -->\n",
       "<g class=\"node\" id=\"node10\"><title>140630798559664</title>\n",
       "<polygon fill=\"none\" points=\"42,-657.5 42,-693.5 165,-693.5 165,-657.5 42,-657.5\" stroke=\"black\"/>\n",
       "<text font-family=\"Times,serif\" font-size=\"14.00\" text-anchor=\"middle\" x=\"103.5\" y=\"-671.8\">conv2d_4: Conv2D</text>\n",
       "</g>\n",
       "<!-- 140630798408000&#45;&gt;140630798559664 -->\n",
       "<g class=\"edge\" id=\"edge9\"><title>140630798408000-&gt;140630798559664</title>\n",
       "<path d=\"M103.5,-730.313C103.5,-722.289 103.5,-712.547 103.5,-703.569\" fill=\"none\" stroke=\"black\"/>\n",
       "<polygon fill=\"black\" points=\"107,-703.529 103.5,-693.529 100,-703.529 107,-703.529\" stroke=\"black\"/>\n",
       "</g>\n",
       "<!-- 140630798596584 -->\n",
       "<g class=\"node\" id=\"node11\"><title>140630798596584</title>\n",
       "<polygon fill=\"none\" points=\"29.5,-584.5 29.5,-620.5 177.5,-620.5 177.5,-584.5 29.5,-584.5\" stroke=\"black\"/>\n",
       "<text font-family=\"Times,serif\" font-size=\"14.00\" text-anchor=\"middle\" x=\"103.5\" y=\"-598.8\">activation_4: Activation</text>\n",
       "</g>\n",
       "<!-- 140630798559664&#45;&gt;140630798596584 -->\n",
       "<g class=\"edge\" id=\"edge10\"><title>140630798559664-&gt;140630798596584</title>\n",
       "<path d=\"M103.5,-657.313C103.5,-649.289 103.5,-639.547 103.5,-630.569\" fill=\"none\" stroke=\"black\"/>\n",
       "<polygon fill=\"black\" points=\"107,-630.529 103.5,-620.529 100,-630.529 107,-630.529\" stroke=\"black\"/>\n",
       "</g>\n",
       "<!-- 140630798207800 -->\n",
       "<g class=\"node\" id=\"node12\"><title>140630798207800</title>\n",
       "<polygon fill=\"none\" points=\"0,-511.5 0,-547.5 207,-547.5 207,-511.5 0,-511.5\" stroke=\"black\"/>\n",
       "<text font-family=\"Times,serif\" font-size=\"14.00\" text-anchor=\"middle\" x=\"103.5\" y=\"-525.8\">max_pooling2d_2: MaxPooling2D</text>\n",
       "</g>\n",
       "<!-- 140630798596584&#45;&gt;140630798207800 -->\n",
       "<g class=\"edge\" id=\"edge11\"><title>140630798596584-&gt;140630798207800</title>\n",
       "<path d=\"M103.5,-584.313C103.5,-576.289 103.5,-566.547 103.5,-557.569\" fill=\"none\" stroke=\"black\"/>\n",
       "<polygon fill=\"black\" points=\"107,-557.529 103.5,-547.529 100,-557.529 107,-557.529\" stroke=\"black\"/>\n",
       "</g>\n",
       "<!-- 140630798208360 -->\n",
       "<g class=\"node\" id=\"node13\"><title>140630798208360</title>\n",
       "<polygon fill=\"none\" points=\"41,-438.5 41,-474.5 166,-474.5 166,-438.5 41,-438.5\" stroke=\"black\"/>\n",
       "<text font-family=\"Times,serif\" font-size=\"14.00\" text-anchor=\"middle\" x=\"103.5\" y=\"-452.8\">dropout_2: Dropout</text>\n",
       "</g>\n",
       "<!-- 140630798207800&#45;&gt;140630798208360 -->\n",
       "<g class=\"edge\" id=\"edge12\"><title>140630798207800-&gt;140630798208360</title>\n",
       "<path d=\"M103.5,-511.313C103.5,-503.289 103.5,-493.547 103.5,-484.569\" fill=\"none\" stroke=\"black\"/>\n",
       "<polygon fill=\"black\" points=\"107,-484.529 103.5,-474.529 100,-484.529 107,-484.529\" stroke=\"black\"/>\n",
       "</g>\n",
       "<!-- 140630797905312 -->\n",
       "<g class=\"node\" id=\"node14\"><title>140630797905312</title>\n",
       "<polygon fill=\"none\" points=\"48.5,-365.5 48.5,-401.5 158.5,-401.5 158.5,-365.5 48.5,-365.5\" stroke=\"black\"/>\n",
       "<text font-family=\"Times,serif\" font-size=\"14.00\" text-anchor=\"middle\" x=\"103.5\" y=\"-379.8\">flatten_1: Flatten</text>\n",
       "</g>\n",
       "<!-- 140630798208360&#45;&gt;140630797905312 -->\n",
       "<g class=\"edge\" id=\"edge13\"><title>140630798208360-&gt;140630797905312</title>\n",
       "<path d=\"M103.5,-438.313C103.5,-430.289 103.5,-420.547 103.5,-411.569\" fill=\"none\" stroke=\"black\"/>\n",
       "<polygon fill=\"black\" points=\"107,-411.529 103.5,-401.529 100,-411.529 107,-411.529\" stroke=\"black\"/>\n",
       "</g>\n",
       "<!-- 140630797954016 -->\n",
       "<g class=\"node\" id=\"node15\"><title>140630797954016</title>\n",
       "<polygon fill=\"none\" points=\"52.5,-292.5 52.5,-328.5 154.5,-328.5 154.5,-292.5 52.5,-292.5\" stroke=\"black\"/>\n",
       "<text font-family=\"Times,serif\" font-size=\"14.00\" text-anchor=\"middle\" x=\"103.5\" y=\"-306.8\">dense_1: Dense</text>\n",
       "</g>\n",
       "<!-- 140630797905312&#45;&gt;140630797954016 -->\n",
       "<g class=\"edge\" id=\"edge14\"><title>140630797905312-&gt;140630797954016</title>\n",
       "<path d=\"M103.5,-365.313C103.5,-357.289 103.5,-347.547 103.5,-338.569\" fill=\"none\" stroke=\"black\"/>\n",
       "<polygon fill=\"black\" points=\"107,-338.529 103.5,-328.529 100,-338.529 107,-338.529\" stroke=\"black\"/>\n",
       "</g>\n",
       "<!-- 140630798363784 -->\n",
       "<g class=\"node\" id=\"node16\"><title>140630798363784</title>\n",
       "<polygon fill=\"none\" points=\"29.5,-219.5 29.5,-255.5 177.5,-255.5 177.5,-219.5 29.5,-219.5\" stroke=\"black\"/>\n",
       "<text font-family=\"Times,serif\" font-size=\"14.00\" text-anchor=\"middle\" x=\"103.5\" y=\"-233.8\">activation_5: Activation</text>\n",
       "</g>\n",
       "<!-- 140630797954016&#45;&gt;140630798363784 -->\n",
       "<g class=\"edge\" id=\"edge15\"><title>140630797954016-&gt;140630798363784</title>\n",
       "<path d=\"M103.5,-292.313C103.5,-284.289 103.5,-274.547 103.5,-265.569\" fill=\"none\" stroke=\"black\"/>\n",
       "<polygon fill=\"black\" points=\"107,-265.529 103.5,-255.529 100,-265.529 107,-265.529\" stroke=\"black\"/>\n",
       "</g>\n",
       "<!-- 140630795595728 -->\n",
       "<g class=\"node\" id=\"node17\"><title>140630795595728</title>\n",
       "<polygon fill=\"none\" points=\"41,-146.5 41,-182.5 166,-182.5 166,-146.5 41,-146.5\" stroke=\"black\"/>\n",
       "<text font-family=\"Times,serif\" font-size=\"14.00\" text-anchor=\"middle\" x=\"103.5\" y=\"-160.8\">dropout_3: Dropout</text>\n",
       "</g>\n",
       "<!-- 140630798363784&#45;&gt;140630795595728 -->\n",
       "<g class=\"edge\" id=\"edge16\"><title>140630798363784-&gt;140630795595728</title>\n",
       "<path d=\"M103.5,-219.313C103.5,-211.289 103.5,-201.547 103.5,-192.569\" fill=\"none\" stroke=\"black\"/>\n",
       "<polygon fill=\"black\" points=\"107,-192.529 103.5,-182.529 100,-192.529 107,-192.529\" stroke=\"black\"/>\n",
       "</g>\n",
       "<!-- 140630795549552 -->\n",
       "<g class=\"node\" id=\"node18\"><title>140630795549552</title>\n",
       "<polygon fill=\"none\" points=\"52.5,-73.5 52.5,-109.5 154.5,-109.5 154.5,-73.5 52.5,-73.5\" stroke=\"black\"/>\n",
       "<text font-family=\"Times,serif\" font-size=\"14.00\" text-anchor=\"middle\" x=\"103.5\" y=\"-87.8\">dense_2: Dense</text>\n",
       "</g>\n",
       "<!-- 140630795595728&#45;&gt;140630795549552 -->\n",
       "<g class=\"edge\" id=\"edge17\"><title>140630795595728-&gt;140630795549552</title>\n",
       "<path d=\"M103.5,-146.313C103.5,-138.289 103.5,-128.547 103.5,-119.569\" fill=\"none\" stroke=\"black\"/>\n",
       "<polygon fill=\"black\" points=\"107,-119.529 103.5,-109.529 100,-119.529 107,-119.529\" stroke=\"black\"/>\n",
       "</g>\n",
       "<!-- 140630795550336 -->\n",
       "<g class=\"node\" id=\"node19\"><title>140630795550336</title>\n",
       "<polygon fill=\"none\" points=\"29.5,-0.5 29.5,-36.5 177.5,-36.5 177.5,-0.5 29.5,-0.5\" stroke=\"black\"/>\n",
       "<text font-family=\"Times,serif\" font-size=\"14.00\" text-anchor=\"middle\" x=\"103.5\" y=\"-14.8\">activation_6: Activation</text>\n",
       "</g>\n",
       "<!-- 140630795549552&#45;&gt;140630795550336 -->\n",
       "<g class=\"edge\" id=\"edge18\"><title>140630795549552-&gt;140630795550336</title>\n",
       "<path d=\"M103.5,-73.3129C103.5,-65.2895 103.5,-55.5475 103.5,-46.5691\" fill=\"none\" stroke=\"black\"/>\n",
       "<polygon fill=\"black\" points=\"107,-46.5288 103.5,-36.5288 100,-46.5289 107,-46.5288\" stroke=\"black\"/>\n",
       "</g>\n",
       "</g>\n",
       "</svg>"
      ],
      "text/plain": [
       "<IPython.core.display.SVG object>"
      ]
     },
     "metadata": {},
     "output_type": "display_data"
    }
   ],
   "source": [
    "model = Sequential()\n",
    "\n",
    "model.add(Conv2D(32, (3, 3), padding='same',\n",
    "                 input_shape=x_train.shape[1:]))\n",
    "model.add(Activation('relu'))\n",
    "model.add(Conv2D(32, (3, 3)))\n",
    "model.add(Activation('relu'))\n",
    "model.add(MaxPooling2D(pool_size=(2, 2)))\n",
    "model.add(Dropout(0.25))\n",
    "\n",
    "model.add(Conv2D(64, (3, 3), padding='same'))\n",
    "model.add(Activation('relu'))\n",
    "model.add(Conv2D(64, (3, 3)))\n",
    "model.add(Activation('relu'))\n",
    "model.add(MaxPooling2D(pool_size=(2, 2)))\n",
    "model.add(Dropout(0.25))\n",
    "\n",
    "model.add(Flatten())\n",
    "model.add(Dense(512))\n",
    "model.add(Activation('relu'))\n",
    "model.add(Dropout(0.5))\n",
    "model.add(Dense(num_classes))\n",
    "model.add(Activation('softmax'))\n",
    "\n",
    "# initiate RMSprop optimizer\n",
    "opt = keras.optimizers.rmsprop(lr=0.0001, decay=1e-6)\n",
    "\n",
    "# load weights\n",
    "#model.load_weights(\"weights.best.hdf5\")\n",
    "\n",
    "# Let's train the model using RMSprop\n",
    "model.compile(loss='categorical_crossentropy',\n",
    "              optimizer=opt,\n",
    "              metrics=['accuracy'])\n",
    "#print(model.summary())\n",
    "\n",
    "display(SVG(model_to_dot(model).create(prog='dot', format='svg')))\n",
    "\n",
    "x_train = x_train.astype('float32')\n",
    "x_test = x_test.astype('float32')\n",
    "x_train /= 255\n",
    "x_test /= 255"
   ]
  },
  {
   "cell_type": "code",
   "execution_count": 19,
   "metadata": {
    "collapsed": false
   },
   "outputs": [],
   "source": [
    "# checkpoint\n",
    "filepath=\"weights.best.hdf5\"\n",
    "checkpointer = ModelCheckpoint(filepath, monitor='val_acc', verbose=1, save_best_only=True, mode='max')"
   ]
  },
  {
   "cell_type": "code",
   "execution_count": 4,
   "metadata": {
    "collapsed": false
   },
   "outputs": [
    {
     "name": "stdout",
     "output_type": "stream",
     "text": [
      "Using real-time data augmentation.\n"
     ]
    }
   ],
   "source": [
    "if not data_augmentation:\n",
    "    print('Not using data augmentation.')\n",
    "    model.fit(x_train, y_train,\n",
    "              batch_size=batch_size,\n",
    "              epochs=epochs,\n",
    "              validation_data=(x_test, y_test),\n",
    "              shuffle=True,\n",
    "              callbacks=[checkpointer])\n",
    "else:\n",
    "    print('Using real-time data augmentation.')\n",
    "    # This will do preprocessing and realtime data augmentation:\n",
    "    datagen = ImageDataGenerator(\n",
    "        featurewise_center=False,  # set input mean to 0 over the dataset\n",
    "        samplewise_center=False,  # set each sample mean to 0\n",
    "        featurewise_std_normalization=False,  # divide inputs by std of the dataset\n",
    "        samplewise_std_normalization=False,  # divide each input by its std\n",
    "        zca_whitening=False,  # apply ZCA whitening\n",
    "        rotation_range=0,  # randomly rotate images in the range (degrees, 0 to 180)\n",
    "        width_shift_range=0.1,  # randomly shift images horizontally (fraction of total width)\n",
    "        height_shift_range=0.1,  # randomly shift images vertically (fraction of total height)\n",
    "        horizontal_flip=True,  # randomly flip images\n",
    "        vertical_flip=False)  # randomly flip images"
   ]
  },
  {
   "cell_type": "code",
   "execution_count": 22,
   "metadata": {
    "collapsed": true
   },
   "outputs": [],
   "source": [
    "    datagen.fit(x_train)\n",
    "\n",
    "    # Fit the model on the batches generated by datagen.flow().\n",
    "    model.fit_generator(datagen.flow(x_train, y_train,\n",
    "                                     batch_size=batch_size),\n",
    "                        steps_per_epoch=x_train.shape[0] // batch_size,\n",
    "                        epochs=epochs,\n",
    "                        validation_data=(x_test, y_test))"
   ]
  },
  {
   "cell_type": "code",
   "execution_count": 6,
   "metadata": {
    "collapsed": false
   },
   "outputs": [
    {
     "name": "stdout",
     "output_type": "stream",
     "text": [
      "Accuracy: 10.79%\n"
     ]
    }
   ],
   "source": [
    "scores = model.evaluate(x_test, y_test, verbose=0)\n",
    "print(\"Accuracy: %.2f%%\" % (scores[1]*100))\n",
    "\n",
    "model.save('cifar.h5')"
   ]
  },
  {
   "cell_type": "code",
   "execution_count": null,
   "metadata": {
    "collapsed": true
   },
   "outputs": [],
   "source": []
  }
 ],
 "metadata": {
  "kernelspec": {
   "display_name": "Python 3",
   "language": "python",
   "name": "python3"
  },
  "language_info": {
   "codemirror_mode": {
    "name": "ipython",
    "version": 3
   },
   "file_extension": ".py",
   "mimetype": "text/x-python",
   "name": "python",
   "nbconvert_exporter": "python",
   "pygments_lexer": "ipython3",
   "version": "3.5.2"
  }
 },
 "nbformat": 4,
 "nbformat_minor": 2
}
