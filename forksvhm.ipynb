{
 "cells": [
  {
   "cell_type": "code",
   "execution_count": 1,
   "metadata": {
    "collapsed": false
   },
   "outputs": [
    {
     "name": "stderr",
     "output_type": "stream",
     "text": [
      "Using TensorFlow backend.\n"
     ]
    }
   ],
   "source": [
    "import numpy as np\n",
    "from matplotlib import pyplot as plt\n",
    "from sklearn.model_selection import train_test_split\n",
    "from sklearn.preprocessing import LabelBinarizer\n",
    "\n",
    "import keras\n",
    "from keras.preprocessing.image import ImageDataGenerator\n",
    "from keras.models import Sequential, Model\n",
    "from keras.layers import Dense, Dropout, Activation, Flatten, Input\n",
    "from keras.layers import Conv2D, MaxPooling2D\n",
    "from keras.callbacks import ModelCheckpoint, EarlyStopping\n",
    "from keras.constraints import maxnorm\n",
    "from keras.optimizers import SGD\n",
    "\n",
    "from IPython.display import SVG,display\n",
    "from keras.utils.vis_utils import model_to_dot\n",
    "\n",
    "batch_size = 32\n",
    "num_classes = 11\n",
    "epochs = 20"
   ]
  },
  {
   "cell_type": "code",
   "execution_count": 8,
   "metadata": {
    "collapsed": true
   },
   "outputs": [],
   "source": [
    "def hot(y):\n",
    "    label_binarizer = LabelBinarizer()\n",
    "    label_binarizer.fit(range(11))\n",
    "    new_y = np.zeros((y.shape[0],y.shape[1]*num_classes))\n",
    "    for i in range(len(y)):\n",
    "        new_y[i,:] = label_binarizer.transform(y[i]).flatten()\n",
    "    return new_y"
   ]
  },
  {
   "cell_type": "code",
   "execution_count": 3,
   "metadata": {
    "collapsed": true
   },
   "outputs": [],
   "source": [
    "def acccc(model):\n",
    "    A = np.array(model.predict(x_test))\n",
    "    c=0\n",
    "    for i in range(A.shape[1]):\n",
    "           c+=np.array_equal(np.argmax(np.array(A[:,i,:]),axis=1)[0:5],np.argmax(y_test[i].reshape((6,11)),axis=1)[0:5])\n",
    "    print(\"Accuracy:\",100*c/A.shape[1])\n",
    "    return 100*c/A.shape[1]"
   ]
  },
  {
   "cell_type": "markdown",
   "metadata": {},
   "source": [
    "# Loading normal data"
   ]
  },
  {
   "cell_type": "code",
   "execution_count": 5,
   "metadata": {
    "collapsed": false
   },
   "outputs": [],
   "source": [
    "# X = np.load(\"resizecrop.npy\")\n",
    "# Y = np.load(\"nummertrain.npy\").astype(int)"
   ]
  },
  {
   "cell_type": "code",
   "execution_count": 11,
   "metadata": {
    "collapsed": true
   },
   "outputs": [],
   "source": [
    "X = np.load(\"aug/resize_cropImage.npy\")\n",
    "Y = np.load(\"aug/nummertrain.npy\").astype(int)\n",
    "A3 = np.load(\"aug/resize_aug2t3ima.npy\")\n",
    "N3 = np.load(\"aug/aug2t3nummer.npy\").astype(int)\n",
    "A4 = np.load(\"aug/resize_aug3t4ima.npy\")\n",
    "N4 = np.load(\"aug/aug3t4nummer.npy\").astype(int)\n",
    "A5 = np.load(\"aug/resize_aug4t5ima.npy\")\n",
    "N5 = np.load(\"aug/aug4t5nummer.npy\").astype(int)\n",
    "X = np.vstack((X,A3,A4,A5))\n",
    "Y = np.vstack((Y,N3,N4,N5))"
   ]
  },
  {
   "cell_type": "code",
   "execution_count": 12,
   "metadata": {
    "collapsed": false
   },
   "outputs": [],
   "source": [
    "y = hot(Y)\n",
    "x_train, x_test, y_train, y_test = train_test_split(\n",
    "    X, y, test_size=0.2, random_state=42)"
   ]
  },
  {
   "cell_type": "code",
   "execution_count": 13,
   "metadata": {
    "collapsed": false
   },
   "outputs": [
    {
     "name": "stdout",
     "output_type": "stream",
     "text": [
      "x_train shape: (26721, 50, 50, 3)\n",
      "y_train shape: (26721, 11)\n",
      "26721 train samples\n"
     ]
    }
   ],
   "source": [
    "y1,y2,y3,y4,y5,ynum = y_train[:,0:11],y_train[:,11:22],y_train[:,22:33],y_train[:,33:44],y_train[:,44:55],y_train[:,55:66]\n",
    "y1_t,y2_t,y3_t,y4_t,y5_t,ynum_t = y_test[:,0:11],y_test[:,11:22],y_test[:,22:33],y_test[:,33:44],y_test[:,44:55],y_test[:,55:66]\n",
    "print('x_train shape:', x_train.shape)\n",
    "print('y_train shape:', ynum.shape)\n",
    "print(x_train.shape[0], 'train samples')"
   ]
  },
  {
   "cell_type": "code",
   "execution_count": 16,
   "metadata": {
    "collapsed": false
   },
   "outputs": [],
   "source": [
    "a = Input(shape=x_train.shape[1:])\n",
    "\n",
    "x = Conv2D(32, (2, 2), padding='same')(a)\n",
    "x = Activation('relu')(x)\n",
    "x = Conv2D(32, (2, 2))(x)\n",
    "x = Activation('relu')(x)\n",
    "x = MaxPooling2D(pool_size=(2, 2))(x)\n",
    "x = Dropout(0.25)(x)\n",
    "\n",
    "x = Conv2D(64, (3, 3), padding='same')(x)\n",
    "x = Activation('relu')(x)\n",
    "x = Conv2D(64, (3, 3))(x)\n",
    "x = Activation('relu')(x)\n",
    "x = MaxPooling2D(pool_size=(2, 2))(x)\n",
    "x = Dropout(0.25)(x)\n",
    "\n",
    "\n",
    "x = Conv2D(64, (4, 4), padding='same')(x)\n",
    "x = Activation('relu')(x)\n",
    "x = Conv2D(64, (4, 4))(x)\n",
    "x = Activation('relu')(x)\n",
    "x = Dropout(0.25)(x)\n",
    "\n",
    "conv_out = Flatten()(x)\n",
    "\n",
    "num = Dense(128, activation='relu')(conv_out)\n",
    "num = Dense(128, activation='relu')(num)\n",
    "num = Dropout(0.5)(num)\n",
    "numout = Dense(num_classes, activation='softmax',name=\"num\")(num)\n",
    "\n",
    "x1 = keras.layers.concatenate([conv_out, num])\n",
    "x2 = keras.layers.concatenate([conv_out, num])\n",
    "x3 = keras.layers.concatenate([conv_out, num])\n",
    "x4 = keras.layers.concatenate([conv_out, num])\n",
    "x5 = keras.layers.concatenate([conv_out, num])\n",
    "\n",
    "x1 = Dense(128, activation='relu')(x1)\n",
    "x2 = Dense(128, activation='relu')(x2)\n",
    "x3 = Dense(128, activation='relu')(x3)\n",
    "x4 = Dense(128, activation='relu')(x4)\n",
    "x5 = Dense(128, activation='relu')(x5)\n",
    "\n",
    "\n",
    "x1 = Dropout(0.5)(x1)\n",
    "x2 = Dropout(0.5)(x2)\n",
    "x3 = Dropout(0.5)(x3)\n",
    "x4 = Dropout(0.5)(x4)\n",
    "x5 = Dropout(0.5)(x5)\n",
    "\n",
    "\n",
    "x1 = Dense(num_classes, activation='softmax', name='x1')(x1)\n",
    "x2 = Dense(num_classes, activation='softmax', name='x2')(x2)\n",
    "x3 = Dense(num_classes, activation='softmax', name='x3')(x3)\n",
    "x4 = Dense(num_classes, activation='softmax', name='x4')(x4)\n",
    "x5 = Dense(num_classes, activation='softmax', name='x5')(x5)\n",
    "\n",
    "model = Model(inputs=a, outputs=[x1, x2, x3, x4, x5, numout])\n",
    "\n",
    "\n",
    "# display(SVG(model_to_dot(model).create(prog='dot', format='svg')))\n",
    "# load weights\n",
    "# model.load_weights(\"weights.forksvhmbest.hdf5\")\n",
    "\n",
    "callbacks = [EarlyStopping(monitor='val_loss', patience=2, verbose=0)]\n",
    "callbacks.append(keras.callbacks.TensorBoard(log_dir='./logs/fork', histogram_freq=0, write_graph=True, write_images=False))\n",
    "\n",
    "\n",
    "\n",
    "model.compile(loss=keras.losses.categorical_crossentropy,\n",
    "              optimizer=keras.optimizers.Adadelta(),\n",
    "              metrics=['accuracy'])"
   ]
  },
  {
   "cell_type": "code",
   "execution_count": 24,
   "metadata": {
    "collapsed": false
   },
   "outputs": [
    {
     "name": "stdout",
     "output_type": "stream",
     "text": [
      "Accuracy: 71.30669061517737\n",
      "Initial accuracy:  71.30669061517737\n"
     ]
    }
   ],
   "source": [
    "acc = acccc(model)\n",
    "print(\"Initial accuracy: \",acc)"
   ]
  },
  {
   "cell_type": "code",
   "execution_count": 25,
   "metadata": {
    "collapsed": false,
    "scrolled": true
   },
   "outputs": [
    {
     "name": "stdout",
     "output_type": "stream",
     "text": [
      "Accuracy: 71.30669061517737\n",
      "Accuracy: 71.30669061517737\n",
      "Train on 26721 samples, validate on 6681 samples\n",
      "Epoch 1/1\n",
      "47s - loss: 1.2431 - x1_loss: 0.3559 - x2_loss: 0.4114 - x3_loss: 0.2906 - x4_loss: 0.0904 - x5_loss: 0.0048 - num_loss: 0.0901 - x1_acc: 0.8942 - x2_acc: 0.8764 - x3_acc: 0.9123 - x4_acc: 0.9727 - x5_acc: 0.9997 - num_acc: 0.9709 - val_loss: 1.4415 - val_x1_loss: 0.3742 - val_x2_loss: 0.4660 - val_x3_loss: 0.3184 - val_x4_loss: 0.1091 - val_x5_loss: 0.0048 - val_num_loss: 0.1690 - val_x1_acc: 0.8954 - val_x2_acc: 0.8771 - val_x3_acc: 0.9240 - val_x4_acc: 0.9778 - val_x5_acc: 0.9997 - val_num_acc: 0.9564\n",
      "Accuracy: 76.41071695853914\n",
      "Accuracy: 76.41071695853914\n",
      "Train on 26721 samples, validate on 6681 samples\n",
      "Epoch 1/1\n",
      "46s - loss: 1.1928 - x1_loss: 0.3430 - x2_loss: 0.3935 - x3_loss: 0.2815 - x4_loss: 0.0849 - x5_loss: 0.0048 - num_loss: 0.0851 - x1_acc: 0.8985 - x2_acc: 0.8846 - x3_acc: 0.9155 - x4_acc: 0.9757 - x5_acc: 0.9997 - num_acc: 0.9729 - val_loss: 1.6167 - val_x1_loss: 0.4622 - val_x2_loss: 0.5425 - val_x3_loss: 0.3238 - val_x4_loss: 0.1087 - val_x5_loss: 0.0048 - val_num_loss: 0.1747 - val_x1_acc: 0.8650 - val_x2_acc: 0.8505 - val_x3_acc: 0.9148 - val_x4_acc: 0.9764 - val_x5_acc: 0.9997 - val_num_acc: 0.9463\n",
      "Accuracy: 72.264631043257\n"
     ]
    }
   ],
   "source": [
    "while(acc<=acccc(model)):\n",
    "    model.save(\"forksvhmprime.h5\")\n",
    "    acc = acccc(model)\n",
    "    model.fit(x_train, [y1,y2,y3,y4,y5,ynum],\n",
    "        batch_size=batch_size,\n",
    "        epochs=1,\n",
    "        # validation_split=0.33,\n",
    "        validation_data=(x_test,[y1_t,y2_t,y3_t,y4_t,y5_t,ynum_t]),\n",
    "        shuffle=True,\n",
    "        verbose=2)"
   ]
  },
  {
   "cell_type": "code",
   "execution_count": 9,
   "metadata": {
    "collapsed": false
   },
   "outputs": [],
   "source": [
    "A = np.array(model.predict(x_test))"
   ]
  },
  {
   "cell_type": "code",
   "execution_count": 23,
   "metadata": {
    "collapsed": false
   },
   "outputs": [
    {
     "name": "stdout",
     "output_type": "stream",
     "text": [
      "Accuracy: 69.5255201317168\n"
     ]
    }
   ],
   "source": [
    "c=0\n",
    "for i in range(A.shape[1]):\n",
    "       c+=np.array_equal(np.argmax(np.array(A[:,i,:]),axis=1)[0:5],np.argmax(y_test[i].reshape((6,11)),axis=1)[0:5])\n",
    "print(\"Accuracy:\",100*c/A.shape[1])"
   ]
  },
  {
   "cell_type": "code",
   "execution_count": 15,
   "metadata": {
    "collapsed": false
   },
   "outputs": [
    {
     "data": {
      "image/png": "[encoded data removed]",
      "text/plain": [
       "<matplotlib.figure.Figure at 0x7f2df69af400>"
      ]
     },
     "metadata": {},
     "output_type": "display_data"
    }
   ],
   "source": [
    "plt.imshow(X[0])\n",
    "plt.show()"
   ]
  },
  {
   "cell_type": "code",
   "execution_count": null,
   "metadata": {
    "collapsed": true
   },
   "outputs": [],
   "source": []
  }
 ],
 "metadata": {
  "kernelspec": {
   "display_name": "Python 3",
   "language": "python",
   "name": "python3"
  },
  "language_info": {
   "codemirror_mode": {
    "name": "ipython",
    "version": 3
   },
   "file_extension": ".py",
   "mimetype": "text/x-python",
   "name": "python",
   "nbconvert_exporter": "python",
   "pygments_lexer": "ipython3",
   "version": "3.5.2"
  }
 },
 "nbformat": 4,
 "nbformat_minor": 2
}
