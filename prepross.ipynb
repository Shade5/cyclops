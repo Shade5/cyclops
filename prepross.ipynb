{
 "cells": [
  {
   "cell_type": "code",
   "execution_count": 1,
   "metadata": {
    "collapsed": false
   },
   "outputs": [
    {
     "name": "stderr",
     "output_type": "stream",
     "text": [
      "Using TensorFlow backend.\n"
     ]
    }
   ],
   "source": [
    "import pandas as pd\n",
    "import numpy as np\n",
    "import skimage.io as io\n",
    "from scipy import ndimage as ndi\n",
    "from skimage import feature\n",
    "from skimage import color\n",
    "from matplotlib import pyplot as plt\n",
    "\n",
    "import keras\n",
    "from keras.datasets import mnist\n",
    "from keras.models import Sequential\n",
    "from keras.layers import Dense, Dropout, Flatten\n",
    "from keras.layers import Conv2D, MaxPooling2D\n",
    "from keras import backend as K"
   ]
  },
  {
   "cell_type": "code",
   "execution_count": 2,
   "metadata": {
    "collapsed": true
   },
   "outputs": [],
   "source": [
    "train_Y = pd.read_csv(\"data/train.csv\")\n",
    "\n",
    "batch_size = 128\n",
    "num_classes = 10\n",
    "epochs = 12"
   ]
  },
  {
   "cell_type": "code",
   "execution_count": 3,
   "metadata": {
    "collapsed": false
   },
   "outputs": [],
   "source": [
    "coll = io.imread_collection('./data/train_images/*.png')"
   ]
  },
  {
   "cell_type": "code",
   "execution_count": 4,
   "metadata": {
    "collapsed": false
   },
   "outputs": [],
   "source": [
    "def mark(num):\n",
    "    io.imshow(coll[num-1])\n",
    "    loca = train_Y.loc[train_Y['FileName']==str(num)+'.png']\n",
    "    left = loca['Left']\n",
    "    top = loca['Top']\n",
    "    right = loca['Width']+left\n",
    "    bottom = loca['Height']+top\n",
    "    \n",
    "    plt.plot(left,top,'yo')\n",
    "    plt.plot(left,bottom,'bo')\n",
    "    plt.plot(right,top,'ro')\n",
    "    plt.plot(right,bottom,'go')\n",
    "    plt.show()"
   ]
  },
  {
   "cell_type": "code",
   "execution_count": 5,
   "metadata": {
    "collapsed": true
   },
   "outputs": [],
   "source": [
    "def markcanny(num):\n",
    "    io.imshow(feature.canny(color.rgb2gray(coll[num-1]), sigma=0.1))\n",
    "    loca = train_Y.loc[train_Y['FileName']==str(num)+'.png']\n",
    "    left = loca['Left']\n",
    "    top = loca['Top']\n",
    "    right = loca['Width']+left\n",
    "    bottom = loca['Height']+top\n",
    "    \n",
    "    plt.plot(left,top,'yo')\n",
    "    plt.plot(left,bottom,'bo')\n",
    "    plt.plot(right,top,'ro')\n",
    "    plt.plot(right,bottom,'go')\n",
    "    plt.show()"
   ]
  },
  {
   "cell_type": "code",
   "execution_count": 7,
   "metadata": {
    "collapsed": false
   },
   "outputs": [
    {
     "data": {
      "text/html": [
       "<div>\n",
       "<table border=\"1\" class=\"dataframe\">\n",
       "  <thead>\n",
       "    <tr style=\"text-align: right;\">\n",
       "      <th></th>\n",
       "      <th>FileName</th>\n",
       "      <th>DigitLabel</th>\n",
       "      <th>Left</th>\n",
       "      <th>Top</th>\n",
       "      <th>Width</th>\n",
       "      <th>Height</th>\n",
       "    </tr>\n",
       "  </thead>\n",
       "  <tbody>\n",
       "    <tr>\n",
       "      <th>0</th>\n",
       "      <td>1.png</td>\n",
       "      <td>1</td>\n",
       "      <td>246</td>\n",
       "      <td>77</td>\n",
       "      <td>81</td>\n",
       "      <td>219</td>\n",
       "    </tr>\n",
       "    <tr>\n",
       "      <th>1</th>\n",
       "      <td>1.png</td>\n",
       "      <td>9</td>\n",
       "      <td>323</td>\n",
       "      <td>81</td>\n",
       "      <td>96</td>\n",
       "      <td>219</td>\n",
       "    </tr>\n",
       "    <tr>\n",
       "      <th>2</th>\n",
       "      <td>2.png</td>\n",
       "      <td>2</td>\n",
       "      <td>77</td>\n",
       "      <td>29</td>\n",
       "      <td>23</td>\n",
       "      <td>32</td>\n",
       "    </tr>\n",
       "    <tr>\n",
       "      <th>3</th>\n",
       "      <td>2.png</td>\n",
       "      <td>3</td>\n",
       "      <td>98</td>\n",
       "      <td>25</td>\n",
       "      <td>26</td>\n",
       "      <td>32</td>\n",
       "    </tr>\n",
       "    <tr>\n",
       "      <th>4</th>\n",
       "      <td>3.png</td>\n",
       "      <td>2</td>\n",
       "      <td>17</td>\n",
       "      <td>5</td>\n",
       "      <td>8</td>\n",
       "      <td>15</td>\n",
       "    </tr>\n",
       "  </tbody>\n",
       "</table>\n",
       "</div>"
      ],
      "text/plain": [
       "  FileName  DigitLabel  Left  Top  Width  Height\n",
       "0    1.png           1   246   77     81     219\n",
       "1    1.png           9   323   81     96     219\n",
       "2    2.png           2    77   29     23      32\n",
       "3    2.png           3    98   25     26      32\n",
       "4    3.png           2    17    5      8      15"
      ]
     },
     "execution_count": 7,
     "metadata": {},
     "output_type": "execute_result"
    }
   ],
   "source": [
    "train_loc = train_Y[['Left','Top','Width','Height']]\n",
    "train_Y.head()"
   ]
  },
  {
   "cell_type": "code",
   "execution_count": 12,
   "metadata": {
    "collapsed": false
   },
   "outputs": [
    {
     "data": {
      "image/png": "[encoded data removed]",
      "text/plain": [
       "<matplotlib.figure.Figure at 0x7f03b9507278>"
      ]
     },
     "metadata": {},
     "output_type": "display_data"
    }
   ],
   "source": [
    "markcanny(6)"
   ]
  },
  {
   "cell_type": "code",
   "execution_count": null,
   "metadata": {
    "collapsed": true
   },
   "outputs": [],
   "source": []
  }
 ],
 "metadata": {
  "kernelspec": {
   "display_name": "Python 3",
   "language": "python",
   "name": "python3"
  },
  "language_info": {
   "codemirror_mode": {
    "name": "ipython",
    "version": 3
   },
   "file_extension": ".py",
   "mimetype": "text/x-python",
   "name": "python",
   "nbconvert_exporter": "python",
   "pygments_lexer": "ipython3",
   "version": "3.5.2"
  }
 },
 "nbformat": 4,
 "nbformat_minor": 2
}
