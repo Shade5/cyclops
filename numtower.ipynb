{
 "cells": [
  {
   "cell_type": "code",
   "execution_count": 9,
   "metadata": {
    "collapsed": false
   },
   "outputs": [],
   "source": [
    "import numpy as np\n",
    "from matplotlib import pyplot as plt\n",
    "from sklearn.model_selection import train_test_split\n",
    "from sklearn.preprocessing import LabelBinarizer\n",
    "\n",
    "import keras\n",
    "from keras.preprocessing.image import ImageDataGenerator\n",
    "from keras.models import Sequential, Model\n",
    "from keras.layers import Dense, Dropout, Activation, Flatten, Input\n",
    "from keras.layers import Conv2D, MaxPooling2D\n",
    "from keras.callbacks import ModelCheckpoint, EarlyStopping\n",
    "from keras.constraints import maxnorm\n",
    "from keras.optimizers import SGD\n",
    "\n",
    "from IPython.display import SVG,display\n",
    "from keras.utils.vis_utils import model_to_dot\n",
    "\n",
    "batch_size = 32\n",
    "num_classes = 11\n",
    "epochs = 15"
   ]
  },
  {
   "cell_type": "code",
   "execution_count": 2,
   "metadata": {
    "collapsed": true
   },
   "outputs": [],
   "source": [
    "def hot(y):\n",
    "    label_binarizer = LabelBinarizer()\n",
    "    label_binarizer.fit(range(11))\n",
    "    new_y = np.zeros((y.shape[0],y.shape[1]*num_classes))\n",
    "    for i in range(len(y)):\n",
    "        new_y[i,:] = label_binarizer.transform(y[i]).flatten()\n",
    "    return new_y"
   ]
  },
  {
   "cell_type": "code",
   "execution_count": 3,
   "metadata": {
    "collapsed": true
   },
   "outputs": [],
   "source": [
    "X = np.load(\"resizecrop.npy\")\n",
    "y = np.load(\"nummertrain.npy\").astype(int)"
   ]
  },
  {
   "cell_type": "code",
   "execution_count": 4,
   "metadata": {
    "collapsed": true
   },
   "outputs": [],
   "source": [
    "y = hot(y)\n",
    "x_train, x_test, y_train, y_test = train_test_split(\n",
    "    X, y, test_size=0.2)"
   ]
  },
  {
   "cell_type": "code",
   "execution_count": 5,
   "metadata": {
    "collapsed": false
   },
   "outputs": [
    {
     "name": "stdout",
     "output_type": "stream",
     "text": [
      "x_train shape: (26721, 25, 23, 3)\n",
      "y_train shape: (26721, 11)\n",
      "26721 train samples\n"
     ]
    }
   ],
   "source": [
    "ynum = y_train[:,55:66]\n",
    "ynum_t = y_test[:,55:66]\n",
    "print('x_train shape:', x_train.shape)\n",
    "print('y_train shape:', ynum.shape)\n",
    "print(x_train.shape[0], 'train samples')"
   ]
  },
  {
   "cell_type": "code",
   "execution_count": 8,
   "metadata": {
    "collapsed": false
   },
   "outputs": [],
   "source": [
    "a = Input(shape=x_train.shape[1:])\n",
    "\n",
    "x = Conv2D(32, (2, 2), padding='same')(a)\n",
    "x = Activation('relu')(x)\n",
    "x = Conv2D(32, (2, 2))(x)\n",
    "x = Activation('relu')(x)\n",
    "x = MaxPooling2D(pool_size=(2, 2))(x)\n",
    "\n",
    "x = Conv2D(64, (2, 2), padding='same')(x)\n",
    "x = Activation('relu')(x)\n",
    "x = Conv2D(64, (2, 2))(x)\n",
    "x = Activation('relu')(x)\n",
    "x = MaxPooling2D(pool_size=(2, 2))(x)\n",
    "\n",
    "x = Conv2D(64, (4, 4), padding='same')(x)\n",
    "x = Activation('relu')(x)\n",
    "x = Conv2D(64, (4, 4))(x)\n",
    "x = Activation('relu')(x)\n",
    "x = MaxPooling2D(pool_size=(2, 2))(x)\n",
    "\n",
    "conv_out = Flatten()(x)\n",
    "\n",
    "num = Dense(128, activation='relu')(conv_out)\n",
    "num = Dense(128, activation='relu')(num)\n",
    "num = Dropout(0.5)(num)\n",
    "numout = Dense(num_classes, activation='softmax',name=\"num\")(num)\n",
    "\n",
    "model = Model(inputs=a, outputs=numout)\n",
    "\n",
    "\n",
    "# display(SVG(model_to_dot(model).create(prog='dot', format='svg')))\n",
    "# load weights\n",
    "# model.load_weights(\"weights.forksvhmbest.hdf5\")\n",
    "\n",
    "callbacks = [EarlyStopping(monitor='val_loss', patience=2, verbose=0)]\n",
    "\n",
    "model.compile(loss=keras.losses.categorical_crossentropy,\n",
    "              optimizer=keras.optimizers.Adadelta(),\n",
    "              metrics=['accuracy'],\n",
    "              callbacks=callbacks)"
   ]
  },
  {
   "cell_type": "code",
   "execution_count": 10,
   "metadata": {
    "collapsed": false
   },
   "outputs": [
    {
     "name": "stderr",
     "output_type": "stream",
     "text": [
      "/home/a/workspace/venv/lib/python3.5/site-packages/keras/backend/tensorflow_backend.py:2094: UserWarning: Expected no kwargs, you passed 1\n",
      "kwargs passed to function are ignored with Tensorflow backend\n",
      "  warnings.warn('\\n'.join(msg))\n"
     ]
    },
    {
     "name": "stdout",
     "output_type": "stream",
     "text": [
      "Train on 21376 samples, validate on 5345 samples\n",
      "Epoch 1/15\n",
      "14s - loss: 0.9261 - acc: 0.6450 - val_loss: 0.4482 - val_acc: 0.8249\n",
      "Epoch 2/15\n",
      "13s - loss: 0.3977 - acc: 0.8567 - val_loss: 0.3052 - val_acc: 0.8889\n",
      "Epoch 3/15\n",
      "13s - loss: 0.2850 - acc: 0.9005 - val_loss: 0.3009 - val_acc: 0.8941\n",
      "Epoch 4/15\n",
      "13s - loss: 0.2216 - acc: 0.9241 - val_loss: 0.2125 - val_acc: 0.9276\n",
      "Epoch 5/15\n",
      "13s - loss: 0.1822 - acc: 0.9379 - val_loss: 0.2200 - val_acc: 0.9227\n",
      "Epoch 6/15\n",
      "13s - loss: 0.1521 - acc: 0.9495 - val_loss: 0.1974 - val_acc: 0.9328\n",
      "Epoch 7/15\n",
      "13s - loss: 0.1241 - acc: 0.9589 - val_loss: 0.2093 - val_acc: 0.9371\n",
      "Epoch 8/15\n",
      "13s - loss: 0.1052 - acc: 0.9656 - val_loss: 0.2390 - val_acc: 0.9259\n",
      "Epoch 9/15\n",
      "13s - loss: 0.0866 - acc: 0.9729 - val_loss: 0.2075 - val_acc: 0.9392\n",
      "Epoch 10/15\n",
      "13s - loss: 0.0722 - acc: 0.9768 - val_loss: 0.2470 - val_acc: 0.9373\n",
      "Epoch 11/15\n",
      "13s - loss: 0.0605 - acc: 0.9811 - val_loss: 0.2537 - val_acc: 0.9426\n",
      "Epoch 12/15\n",
      "13s - loss: 0.0529 - acc: 0.9831 - val_loss: 0.3011 - val_acc: 0.9319\n",
      "Epoch 13/15\n",
      "13s - loss: 0.0461 - acc: 0.9855 - val_loss: 0.3243 - val_acc: 0.9340\n",
      "Epoch 14/15\n",
      "13s - loss: 0.0385 - acc: 0.9878 - val_loss: 0.2937 - val_acc: 0.9403\n",
      "Epoch 15/15\n",
      "13s - loss: 0.0342 - acc: 0.9898 - val_loss: 0.2879 - val_acc: 0.9405\n"
     ]
    },
    {
     "data": {
      "text/plain": [
       "<keras.callbacks.History at 0x7f5c50366d68>"
      ]
     },
     "execution_count": 10,
     "metadata": {},
     "output_type": "execute_result"
    }
   ],
   "source": [
    "model.fit(x_train, ynum,\n",
    "        batch_size=batch_size,\n",
    "        epochs=epochs,\n",
    "        validation_split=0.2,\n",
    "        shuffle=True,\n",
    "        verbose=2)"
   ]
  },
  {
   "cell_type": "code",
   "execution_count": 28,
   "metadata": {
    "collapsed": false
   },
   "outputs": [
    {
     "name": "stdout",
     "output_type": "stream",
     "text": [
      "Test loss: 0.281458338438\n",
      "Test accuracy: 0.938033228398\n"
     ]
    }
   ],
   "source": [
    "score = model.evaluate(x_test, ynum_t, verbose=0)\n",
    "\n",
    "print('Test loss:', score[0])\n",
    "print('Test accuracy:', score[1])\n",
    "model.save('numtower.h5')"
   ]
  },
  {
   "cell_type": "code",
   "execution_count": null,
   "metadata": {
    "collapsed": true
   },
   "outputs": [],
   "source": []
  }
 ],
 "metadata": {
  "kernelspec": {
   "display_name": "Python 3",
   "language": "python",
   "name": "python3"
  },
  "language_info": {
   "codemirror_mode": {
    "name": "ipython",
    "version": 3
   },
   "file_extension": ".py",
   "mimetype": "text/x-python",
   "name": "python",
   "nbconvert_exporter": "python",
   "pygments_lexer": "ipython3",
   "version": "3.5.2"
  }
 },
 "nbformat": 4,
 "nbformat_minor": 2
}
